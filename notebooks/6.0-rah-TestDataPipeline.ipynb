{
 "cells": [
  {
   "cell_type": "code",
   "execution_count": 1,
   "metadata": {},
   "outputs": [],
   "source": [
    "import numpy as np\n",
    "import pandas as pd\n",
    "\n",
    "import sys\n",
    "sys.path.append('../src/data')\n",
    "sys.path.append('../src/features')\n",
    "from functools import reduce\n",
    "\n",
    "import build_features as bf\n",
    "import make_dataset as md\n",
    "\n",
    "import matplotlib.pyplot as plt\n",
    "%matplotlib inline\n",
    "\n",
    "# Sci Kit learn packages for feature transforming\n",
    "from sklearn.base import BaseEstimator, TransformerMixin\n",
    "from sklearn.pipeline import Pipeline, FeatureUnion\n",
    "from sklearn.preprocessing import OneHotEncoder, StandardScaler\n",
    "from sklearn.preprocessing import Imputer"
   ]
  },
  {
   "cell_type": "markdown",
   "metadata": {},
   "source": [
    "## Create a simple dataset to compare manual versus raw data with"
   ]
  },
  {
   "cell_type": "code",
   "execution_count": 2,
   "metadata": {},
   "outputs": [],
   "source": [
    "originalDF = pd.read_csv(\"../data/raw/application_train.csv\")"
   ]
  },
  {
   "cell_type": "code",
   "execution_count": 20,
   "metadata": {},
   "outputs": [],
   "source": [
    "newDF = originalDF.loc[:,[\"SK_ID_CURR\", \"TARGET\", \"DAYS_BIRTH\",\n",
    "                   \"AMT_INCOME_TOTAL\", \"DAYS_EMPLOYED\", \"NAME_EDUCATION_TYPE\",\n",
    "                   \"NAME_FAMILY_STATUS\", \"NAME_INCOME_TYPE\", \"AMT_CREDIT\",\n",
    "                   \"AMT_ANNUITY\", \"DAYS_EMPLOYED\", \"EXT_SOURCE_1\",\n",
    "                   \"EXT_SOURCE_2\", \"EXT_SOURCE_3\"]]"
   ]
  },
  {
   "cell_type": "code",
   "execution_count": 4,
   "metadata": {},
   "outputs": [
    {
     "data": {
      "text/html": [
       "<div>\n",
       "<style scoped>\n",
       "    .dataframe tbody tr th:only-of-type {\n",
       "        vertical-align: middle;\n",
       "    }\n",
       "\n",
       "    .dataframe tbody tr th {\n",
       "        vertical-align: top;\n",
       "    }\n",
       "\n",
       "    .dataframe thead th {\n",
       "        text-align: right;\n",
       "    }\n",
       "</style>\n",
       "<table border=\"1\" class=\"dataframe\">\n",
       "  <thead>\n",
       "    <tr style=\"text-align: right;\">\n",
       "      <th></th>\n",
       "      <th>SK_ID_CURR</th>\n",
       "      <th>TARGET</th>\n",
       "      <th>DAYS_BIRTH</th>\n",
       "      <th>AMT_INCOME_TOTAL</th>\n",
       "      <th>DAYS_EMPLOYED</th>\n",
       "      <th>NAME_EDUCATION_TYPE</th>\n",
       "      <th>NAME_FAMILY_STATUS</th>\n",
       "      <th>NAME_INCOME_TYPE</th>\n",
       "      <th>AMT_CREDIT</th>\n",
       "      <th>AMT_ANNUITY</th>\n",
       "      <th>DAYS_EMPLOYED</th>\n",
       "      <th>EXT_SOURCE_1</th>\n",
       "      <th>EXT_SOURCE_2</th>\n",
       "      <th>EXT_SOURCE_3</th>\n",
       "    </tr>\n",
       "  </thead>\n",
       "  <tbody>\n",
       "    <tr>\n",
       "      <th>0</th>\n",
       "      <td>100002</td>\n",
       "      <td>1</td>\n",
       "      <td>-9461</td>\n",
       "      <td>202500.0</td>\n",
       "      <td>-637</td>\n",
       "      <td>Secondary / secondary special</td>\n",
       "      <td>Single / not married</td>\n",
       "      <td>Working</td>\n",
       "      <td>406597.5</td>\n",
       "      <td>24700.5</td>\n",
       "      <td>-637</td>\n",
       "      <td>0.083037</td>\n",
       "      <td>0.262949</td>\n",
       "      <td>0.139376</td>\n",
       "    </tr>\n",
       "    <tr>\n",
       "      <th>1</th>\n",
       "      <td>100003</td>\n",
       "      <td>0</td>\n",
       "      <td>-16765</td>\n",
       "      <td>270000.0</td>\n",
       "      <td>-1188</td>\n",
       "      <td>Higher education</td>\n",
       "      <td>Married</td>\n",
       "      <td>State servant</td>\n",
       "      <td>1293502.5</td>\n",
       "      <td>35698.5</td>\n",
       "      <td>-1188</td>\n",
       "      <td>0.311267</td>\n",
       "      <td>0.622246</td>\n",
       "      <td>NaN</td>\n",
       "    </tr>\n",
       "    <tr>\n",
       "      <th>2</th>\n",
       "      <td>100004</td>\n",
       "      <td>0</td>\n",
       "      <td>-19046</td>\n",
       "      <td>67500.0</td>\n",
       "      <td>-225</td>\n",
       "      <td>Secondary / secondary special</td>\n",
       "      <td>Single / not married</td>\n",
       "      <td>Working</td>\n",
       "      <td>135000.0</td>\n",
       "      <td>6750.0</td>\n",
       "      <td>-225</td>\n",
       "      <td>NaN</td>\n",
       "      <td>0.555912</td>\n",
       "      <td>0.729567</td>\n",
       "    </tr>\n",
       "    <tr>\n",
       "      <th>3</th>\n",
       "      <td>100006</td>\n",
       "      <td>0</td>\n",
       "      <td>-19005</td>\n",
       "      <td>135000.0</td>\n",
       "      <td>-3039</td>\n",
       "      <td>Secondary / secondary special</td>\n",
       "      <td>Civil marriage</td>\n",
       "      <td>Working</td>\n",
       "      <td>312682.5</td>\n",
       "      <td>29686.5</td>\n",
       "      <td>-3039</td>\n",
       "      <td>NaN</td>\n",
       "      <td>0.650442</td>\n",
       "      <td>NaN</td>\n",
       "    </tr>\n",
       "    <tr>\n",
       "      <th>4</th>\n",
       "      <td>100007</td>\n",
       "      <td>0</td>\n",
       "      <td>-19932</td>\n",
       "      <td>121500.0</td>\n",
       "      <td>-3038</td>\n",
       "      <td>Secondary / secondary special</td>\n",
       "      <td>Single / not married</td>\n",
       "      <td>Working</td>\n",
       "      <td>513000.0</td>\n",
       "      <td>21865.5</td>\n",
       "      <td>-3038</td>\n",
       "      <td>NaN</td>\n",
       "      <td>0.322738</td>\n",
       "      <td>NaN</td>\n",
       "    </tr>\n",
       "  </tbody>\n",
       "</table>\n",
       "</div>"
      ],
      "text/plain": [
       "   SK_ID_CURR  TARGET  DAYS_BIRTH  AMT_INCOME_TOTAL  DAYS_EMPLOYED  \\\n",
       "0      100002       1       -9461          202500.0           -637   \n",
       "1      100003       0      -16765          270000.0          -1188   \n",
       "2      100004       0      -19046           67500.0           -225   \n",
       "3      100006       0      -19005          135000.0          -3039   \n",
       "4      100007       0      -19932          121500.0          -3038   \n",
       "\n",
       "             NAME_EDUCATION_TYPE    NAME_FAMILY_STATUS NAME_INCOME_TYPE  \\\n",
       "0  Secondary / secondary special  Single / not married          Working   \n",
       "1               Higher education               Married    State servant   \n",
       "2  Secondary / secondary special  Single / not married          Working   \n",
       "3  Secondary / secondary special        Civil marriage          Working   \n",
       "4  Secondary / secondary special  Single / not married          Working   \n",
       "\n",
       "   AMT_CREDIT  AMT_ANNUITY  DAYS_EMPLOYED  EXT_SOURCE_1  EXT_SOURCE_2  \\\n",
       "0    406597.5      24700.5           -637      0.083037      0.262949   \n",
       "1   1293502.5      35698.5          -1188      0.311267      0.622246   \n",
       "2    135000.0       6750.0           -225           NaN      0.555912   \n",
       "3    312682.5      29686.5          -3039           NaN      0.650442   \n",
       "4    513000.0      21865.5          -3038           NaN      0.322738   \n",
       "\n",
       "   EXT_SOURCE_3  \n",
       "0      0.139376  \n",
       "1           NaN  \n",
       "2      0.729567  \n",
       "3           NaN  \n",
       "4           NaN  "
      ]
     },
     "execution_count": 4,
     "metadata": {},
     "output_type": "execute_result"
    }
   ],
   "source": [
    "newDF.head()"
   ]
  },
  {
   "cell_type": "code",
   "execution_count": 6,
   "metadata": {},
   "outputs": [],
   "source": [
    "newDF.to_csv(\"../data/interim/application_train.csv\", index = False)"
   ]
  },
  {
   "cell_type": "markdown",
   "metadata": {},
   "source": [
    "## Test data pipeline"
   ]
  },
  {
   "cell_type": "code",
   "execution_count": null,
   "metadata": {},
   "outputs": [],
   "source": []
  },
  {
   "cell_type": "code",
   "execution_count": 21,
   "metadata": {},
   "outputs": [],
   "source": [
    "newDFTarget = newDF['TARGET']"
   ]
  },
  {
   "cell_type": "code",
   "execution_count": 22,
   "metadata": {},
   "outputs": [],
   "source": [
    "newDF = newDF.drop(columns = ['SK_ID_CURR', 'TARGET'])"
   ]
  },
  {
   "cell_type": "code",
   "execution_count": 23,
   "metadata": {},
   "outputs": [],
   "source": [
    "featureExt = Pipeline([('features', bf.DFFeatureUnion(\n",
    "                transformer_list=[('numeric', Pipeline ([\n",
    "                                        ('selector', bf.TypeSelector(np.number)),\n",
    "                                        ('fillNaN', bf.DFImputer()),\n",
    "                                        ('log', bf.LogTrans()),\n",
    "                                        ('scaler', bf.DFStandardScaler())\n",
    "                                        ])),\n",
    "                                   ('categorical', Pipeline([\n",
    "                                       ('selector', bf.TypeSelector('object')),\n",
    "                                        ('concat', bf.CleanString()),\n",
    "                                        ('encoder', bf.GetDummies())\n",
    "                                                            ]))\n",
    "                                  ]\n",
    "                            ))])"
   ]
  },
  {
   "cell_type": "code",
   "execution_count": 24,
   "metadata": {},
   "outputs": [],
   "source": [
    "transNewDF = featureExt.fit_transform(newDF)"
   ]
  },
  {
   "cell_type": "code",
   "execution_count": 26,
   "metadata": {},
   "outputs": [
    {
     "data": {
      "text/html": [
       "<div>\n",
       "<style scoped>\n",
       "    .dataframe tbody tr th:only-of-type {\n",
       "        vertical-align: middle;\n",
       "    }\n",
       "\n",
       "    .dataframe tbody tr th {\n",
       "        vertical-align: top;\n",
       "    }\n",
       "\n",
       "    .dataframe thead th {\n",
       "        text-align: right;\n",
       "    }\n",
       "</style>\n",
       "<table border=\"1\" class=\"dataframe\">\n",
       "  <thead>\n",
       "    <tr style=\"text-align: right;\">\n",
       "      <th></th>\n",
       "      <th>DAYS_BIRTH</th>\n",
       "      <th>AMT_INCOME_TOTAL</th>\n",
       "      <th>DAYS_EMPLOYED</th>\n",
       "      <th>DAYS_EMPLOYED</th>\n",
       "      <th>AMT_CREDIT</th>\n",
       "      <th>AMT_ANNUITY</th>\n",
       "      <th>DAYS_EMPLOYED</th>\n",
       "      <th>DAYS_EMPLOYED</th>\n",
       "      <th>EXT_SOURCE_1</th>\n",
       "      <th>EXT_SOURCE_2</th>\n",
       "      <th>...</th>\n",
       "      <th>NAME_FAMILY_STATUS_Unknown</th>\n",
       "      <th>NAME_FAMILY_STATUS_Widow</th>\n",
       "      <th>NAME_INCOME_TYPE_Businessman</th>\n",
       "      <th>NAME_INCOME_TYPE_Commercialassociate</th>\n",
       "      <th>NAME_INCOME_TYPE_Maternityleave</th>\n",
       "      <th>NAME_INCOME_TYPE_Pensioner</th>\n",
       "      <th>NAME_INCOME_TYPE_Stateservant</th>\n",
       "      <th>NAME_INCOME_TYPE_Student</th>\n",
       "      <th>NAME_INCOME_TYPE_Unemployed</th>\n",
       "      <th>NAME_INCOME_TYPE_Working</th>\n",
       "    </tr>\n",
       "  </thead>\n",
       "  <tbody>\n",
       "    <tr>\n",
       "      <th>0</th>\n",
       "      <td>-1.716957</td>\n",
       "      <td>0.632545</td>\n",
       "      <td>-0.790732</td>\n",
       "      <td>-0.790732</td>\n",
       "      <td>-0.216063</td>\n",
       "      <td>0.085989</td>\n",
       "      <td>-0.790732</td>\n",
       "      <td>-0.790732</td>\n",
       "      <td>-3.398625</td>\n",
       "      <td>-1.281523</td>\n",
       "      <td>...</td>\n",
       "      <td>0</td>\n",
       "      <td>0</td>\n",
       "      <td>0</td>\n",
       "      <td>0</td>\n",
       "      <td>0</td>\n",
       "      <td>0</td>\n",
       "      <td>0</td>\n",
       "      <td>0</td>\n",
       "      <td>0</td>\n",
       "      <td>1</td>\n",
       "    </tr>\n",
       "    <tr>\n",
       "      <th>1</th>\n",
       "      <td>0.293468</td>\n",
       "      <td>1.220963</td>\n",
       "      <td>-0.522620</td>\n",
       "      <td>-0.522620</td>\n",
       "      <td>1.402080</td>\n",
       "      <td>0.760641</td>\n",
       "      <td>-0.522620</td>\n",
       "      <td>-0.522620</td>\n",
       "      <td>-1.384610</td>\n",
       "      <td>0.574338</td>\n",
       "      <td>...</td>\n",
       "      <td>0</td>\n",
       "      <td>0</td>\n",
       "      <td>0</td>\n",
       "      <td>0</td>\n",
       "      <td>0</td>\n",
       "      <td>0</td>\n",
       "      <td>1</td>\n",
       "      <td>0</td>\n",
       "      <td>0</td>\n",
       "      <td>0</td>\n",
       "    </tr>\n",
       "    <tr>\n",
       "      <th>2</th>\n",
       "      <td>0.741740</td>\n",
       "      <td>-1.614519</td>\n",
       "      <td>-1.237695</td>\n",
       "      <td>-1.237695</td>\n",
       "      <td>-1.757668</td>\n",
       "      <td>-2.290346</td>\n",
       "      <td>-1.237695</td>\n",
       "      <td>-1.237695</td>\n",
       "      <td>0.046606</td>\n",
       "      <td>0.264861</td>\n",
       "      <td>...</td>\n",
       "      <td>0</td>\n",
       "      <td>0</td>\n",
       "      <td>0</td>\n",
       "      <td>0</td>\n",
       "      <td>0</td>\n",
       "      <td>0</td>\n",
       "      <td>0</td>\n",
       "      <td>0</td>\n",
       "      <td>0</td>\n",
       "      <td>1</td>\n",
       "    </tr>\n",
       "    <tr>\n",
       "      <th>3</th>\n",
       "      <td>0.734167</td>\n",
       "      <td>-0.196782</td>\n",
       "      <td>-0.118319</td>\n",
       "      <td>-0.118319</td>\n",
       "      <td>-0.583286</td>\n",
       "      <td>0.422813</td>\n",
       "      <td>-0.118319</td>\n",
       "      <td>-0.118319</td>\n",
       "      <td>0.046606</td>\n",
       "      <td>0.702070</td>\n",
       "      <td>...</td>\n",
       "      <td>0</td>\n",
       "      <td>0</td>\n",
       "      <td>0</td>\n",
       "      <td>0</td>\n",
       "      <td>0</td>\n",
       "      <td>0</td>\n",
       "      <td>0</td>\n",
       "      <td>0</td>\n",
       "      <td>0</td>\n",
       "      <td>1</td>\n",
       "    </tr>\n",
       "    <tr>\n",
       "      <th>4</th>\n",
       "      <td>0.901525</td>\n",
       "      <td>-0.412283</td>\n",
       "      <td>-0.118461</td>\n",
       "      <td>-0.118461</td>\n",
       "      <td>0.108957</td>\n",
       "      <td>-0.137338</td>\n",
       "      <td>-0.118461</td>\n",
       "      <td>-0.118461</td>\n",
       "      <td>0.046606</td>\n",
       "      <td>-0.938649</td>\n",
       "      <td>...</td>\n",
       "      <td>0</td>\n",
       "      <td>0</td>\n",
       "      <td>0</td>\n",
       "      <td>0</td>\n",
       "      <td>0</td>\n",
       "      <td>0</td>\n",
       "      <td>0</td>\n",
       "      <td>0</td>\n",
       "      <td>0</td>\n",
       "      <td>1</td>\n",
       "    </tr>\n",
       "  </tbody>\n",
       "</table>\n",
       "<p>5 rows × 30 columns</p>\n",
       "</div>"
      ],
      "text/plain": [
       "   DAYS_BIRTH  AMT_INCOME_TOTAL  DAYS_EMPLOYED  DAYS_EMPLOYED  AMT_CREDIT  \\\n",
       "0   -1.716957          0.632545      -0.790732      -0.790732   -0.216063   \n",
       "1    0.293468          1.220963      -0.522620      -0.522620    1.402080   \n",
       "2    0.741740         -1.614519      -1.237695      -1.237695   -1.757668   \n",
       "3    0.734167         -0.196782      -0.118319      -0.118319   -0.583286   \n",
       "4    0.901525         -0.412283      -0.118461      -0.118461    0.108957   \n",
       "\n",
       "   AMT_ANNUITY  DAYS_EMPLOYED  DAYS_EMPLOYED  EXT_SOURCE_1  EXT_SOURCE_2  \\\n",
       "0     0.085989      -0.790732      -0.790732     -3.398625     -1.281523   \n",
       "1     0.760641      -0.522620      -0.522620     -1.384610      0.574338   \n",
       "2    -2.290346      -1.237695      -1.237695      0.046606      0.264861   \n",
       "3     0.422813      -0.118319      -0.118319      0.046606      0.702070   \n",
       "4    -0.137338      -0.118461      -0.118461      0.046606     -0.938649   \n",
       "\n",
       "             ...             NAME_FAMILY_STATUS_Unknown  \\\n",
       "0            ...                                      0   \n",
       "1            ...                                      0   \n",
       "2            ...                                      0   \n",
       "3            ...                                      0   \n",
       "4            ...                                      0   \n",
       "\n",
       "   NAME_FAMILY_STATUS_Widow  NAME_INCOME_TYPE_Businessman  \\\n",
       "0                         0                             0   \n",
       "1                         0                             0   \n",
       "2                         0                             0   \n",
       "3                         0                             0   \n",
       "4                         0                             0   \n",
       "\n",
       "   NAME_INCOME_TYPE_Commercialassociate  NAME_INCOME_TYPE_Maternityleave  \\\n",
       "0                                     0                                0   \n",
       "1                                     0                                0   \n",
       "2                                     0                                0   \n",
       "3                                     0                                0   \n",
       "4                                     0                                0   \n",
       "\n",
       "   NAME_INCOME_TYPE_Pensioner  NAME_INCOME_TYPE_Stateservant  \\\n",
       "0                           0                              0   \n",
       "1                           0                              1   \n",
       "2                           0                              0   \n",
       "3                           0                              0   \n",
       "4                           0                              0   \n",
       "\n",
       "   NAME_INCOME_TYPE_Student  NAME_INCOME_TYPE_Unemployed  \\\n",
       "0                         0                            0   \n",
       "1                         0                            0   \n",
       "2                         0                            0   \n",
       "3                         0                            0   \n",
       "4                         0                            0   \n",
       "\n",
       "   NAME_INCOME_TYPE_Working  \n",
       "0                         1  \n",
       "1                         0  \n",
       "2                         1  \n",
       "3                         1  \n",
       "4                         1  \n",
       "\n",
       "[5 rows x 30 columns]"
      ]
     },
     "execution_count": 26,
     "metadata": {},
     "output_type": "execute_result"
    }
   ],
   "source": [
    "transNewDF.head()"
   ]
  },
  {
   "cell_type": "markdown",
   "metadata": {},
   "source": [
    "Need to rethink using skew test. Perphaps the new column class for scikit learn Pipeline"
   ]
  },
  {
   "cell_type": "code",
   "execution_count": null,
   "metadata": {},
   "outputs": [],
   "source": []
  },
  {
   "cell_type": "markdown",
   "metadata": {},
   "source": [
    "## Build out data pipeline"
   ]
  },
  {
   "cell_type": "code",
   "execution_count": null,
   "metadata": {},
   "outputs": [],
   "source": [
    "newDF"
   ]
  },
  {
   "cell_type": "code",
   "execution_count": 315,
   "metadata": {},
   "outputs": [],
   "source": [
    "Z = newDF[[\"DAYS_BIRTH\", \"AMT_INCOME_TOTAL\", \"NAME_EDUCATION_TYPE\"]]"
   ]
  },
  {
   "cell_type": "code",
   "execution_count": 316,
   "metadata": {},
   "outputs": [
    {
     "data": {
      "text/plain": [
       "DAYS_BIRTH             False\n",
       "AMT_INCOME_TOTAL       False\n",
       "NAME_EDUCATION_TYPE     True\n",
       "dtype: bool"
      ]
     },
     "execution_count": 316,
     "metadata": {},
     "output_type": "execute_result"
    }
   ],
   "source": [
    "Z.dtypes == 'object'"
   ]
  },
  {
   "cell_type": "code",
   "execution_count": 317,
   "metadata": {},
   "outputs": [],
   "source": [
    "class ColumnExtractor(BaseEstimator, TransformerMixin):\n",
    "\n",
    "    def __init__(self, cols):\n",
    "        self.cols = cols\n",
    "\n",
    "    def transform(self, X):\n",
    "        Xcols = X[self.cols]\n",
    "        return Xcols\n",
    "\n",
    "    def fit(self, X, y=None):\n",
    "        return self"
   ]
  },
  {
   "cell_type": "code",
   "execution_count": 318,
   "metadata": {},
   "outputs": [],
   "source": [
    "class LogTrans(BaseEstimator, TransformerMixin):\n",
    "    \n",
    "    def __init__(self, pvalue = 1):\n",
    "        self.pvalue = pvalue\n",
    "    \n",
    "    def transform(self, X):\n",
    "        combine = zip(X, self.pvalue)\n",
    "        Xtl = [np.log1p(np.absolute(X[XSeries])) if pvalues <= 0.05 else X[XSeries] for XSeries, pvalues in combine]\n",
    "        return reduce(lambda X1, X2: pd.concat((X1,X2), axis = 1), Xtl)\n",
    "    \n",
    "    def fit(self, X, y = None):\n",
    "        self.zscore, self.pvalue = skewtest(X)\n",
    "        return self"
   ]
  },
  {
   "cell_type": "code",
   "execution_count": 319,
   "metadata": {},
   "outputs": [],
   "source": [
    "class CleanString(BaseEstimator, TransformerMixin):\n",
    "    \"\"\"Cleans String\"\"\"\n",
    "    def fit(self, X, y = None):\n",
    "        return self\n",
    "\n",
    "    def transform(self, X):\n",
    "        assert isinstance(X, pd.DataFrame)\n",
    "        return X.apply(lambda s: s.str.replace(' ', ''))"
   ]
  },
  {
   "cell_type": "code",
   "execution_count": 320,
   "metadata": {},
   "outputs": [],
   "source": [
    "class GetDummies(BaseEstimator, TransformerMixin):\n",
    "    def fit(self, X, y = None):\n",
    "        return self\n",
    "    \n",
    "    def transform(self, X):\n",
    "        assert isinstance(X, pd.DataFrame)\n",
    "        return pd.get_dummies(X)"
   ]
  },
  {
   "cell_type": "code",
   "execution_count": 321,
   "metadata": {},
   "outputs": [],
   "source": [
    "class GetColumnName(BaseEstimator, TransformerMixin):\n",
    "    def fit(self, X, y = None):\n",
    "        return self\n",
    "    \n",
    "    def transform(self, X):\n",
    "        assert isinstance(X, pd.DataFrame)\n",
    "        return X.column"
   ]
  },
  {
   "cell_type": "code",
   "execution_count": 322,
   "metadata": {},
   "outputs": [],
   "source": [
    "class DFImputer(BaseEstimator, TransformerMixin):\n",
    "    \n",
    "    def __init__(self, strategy = 'mean'):\n",
    "        self.strategy = strategy\n",
    "        self.im = None\n",
    "        self.statistics_ = None\n",
    "        \n",
    "    def fit(self, X, y = None):\n",
    "        self.im = Imputer(missing_values='NaN', strategy=self.strategy).fit(X)\n",
    "        return self\n",
    "    \n",
    "    def transform(self, X):\n",
    "        Xim = self.im.transform(X)\n",
    "        Ximputed = pd.DataFrame(Xim, index = X.index, columns = X.columns)\n",
    "        return Ximputed"
   ]
  },
  {
   "cell_type": "code",
   "execution_count": 323,
   "metadata": {},
   "outputs": [],
   "source": [
    "class DFStandardScaler(BaseEstimator, TransformerMixin):\n",
    "    \n",
    "    def __init__(self):\n",
    "        self.ss = None\n",
    "        \n",
    "    def fit(self, X, y = None):\n",
    "        self.ss = StandardScaler().fit(X)\n",
    "        return self\n",
    "    \n",
    "    def transform(self,X):\n",
    "        Xss = self.ss.transform(X)\n",
    "        Xscaled = pd.DataFrame(Xss, index = X.index, columns = X.columns)\n",
    "        return Xscaled"
   ]
  },
  {
   "cell_type": "code",
   "execution_count": 324,
   "metadata": {},
   "outputs": [],
   "source": [
    "class DFFeatureUnion(BaseEstimator, TransformerMixin):\n",
    "    \n",
    "    def __init__(self, transformer_list):\n",
    "        self.transformer_list = transformer_list\n",
    "        \n",
    "    def fit(self, X, y = None):\n",
    "        for (name, t) in self.transformer_list:\n",
    "            t.fit(X,y)\n",
    "        return self\n",
    "    \n",
    "    def transform(self, X):\n",
    "        Xts = [t.transform(X) for _, t in self.transformer_list]\n",
    "        Xunion = reduce(lambda X1, X2: pd.merge(X1, X2, left_index = True, right_index = True), Xts)\n",
    "        return Xunion\n",
    "    "
   ]
  },
  {
   "cell_type": "code",
   "execution_count": 4,
   "metadata": {},
   "outputs": [],
   "source": [
    "featureExt = Pipeline([('features', bf.DFFeatureUnion(\n",
    "                transformer_list=[('numeric', Pipeline ([\n",
    "                                        ('selector', bf.TypeSelector(np.number)),\n",
    "                                        ('fillNaN', bf.DFImputer()),\n",
    "                                        ('log', bf.LogTrans()),\n",
    "                                        ('scaler', bf.DFStandardScaler())\n",
    "                                        ])),\n",
    "                                   ('categorical', Pipeline([\n",
    "                                       ('selector', bf.TypeSelector('object')),\n",
    "                                        ('concat', bf.CleanString()),\n",
    "                                        ('encoder', bf.GetDummies())\n",
    "                                                            ]))\n",
    "                                  ]\n",
    "                            ))])"
   ]
  },
  {
   "cell_type": "code",
   "execution_count": 5,
   "metadata": {},
   "outputs": [
    {
     "ename": "NameError",
     "evalue": "name 'Z' is not defined",
     "output_type": "error",
     "traceback": [
      "\u001b[0;31m---------------------------------------------------------------------------\u001b[0m",
      "\u001b[0;31mNameError\u001b[0m                                 Traceback (most recent call last)",
      "\u001b[0;32m<ipython-input-5-564f7af5b1c4>\u001b[0m in \u001b[0;36m<module>\u001b[0;34m()\u001b[0m\n\u001b[0;32m----> 1\u001b[0;31m \u001b[0mtransDF\u001b[0m \u001b[0;34m=\u001b[0m \u001b[0mfeatureExt\u001b[0m\u001b[0;34m.\u001b[0m\u001b[0mfit_transform\u001b[0m\u001b[0;34m(\u001b[0m\u001b[0mZ\u001b[0m\u001b[0;34m)\u001b[0m\u001b[0;34m\u001b[0m\u001b[0m\n\u001b[0m",
      "\u001b[0;31mNameError\u001b[0m: name 'Z' is not defined"
     ]
    }
   ],
   "source": [
    "transDF = featureExt.fit_transform(Z)"
   ]
  },
  {
   "cell_type": "code",
   "execution_count": 327,
   "metadata": {},
   "outputs": [],
   "source": [
    "Z = Z[['DAYS_BIRTH', \"AMT_INCOME_TOTAL\"]]\n",
    "Z = np.log1p(np.absolute(Z))"
   ]
  },
  {
   "cell_type": "code",
   "execution_count": 309,
   "metadata": {},
   "outputs": [],
   "source": [
    "scaler = StandardScaler()"
   ]
  },
  {
   "cell_type": "code",
   "execution_count": 310,
   "metadata": {},
   "outputs": [
    {
     "data": {
      "text/plain": [
       "StandardScaler(copy=True, with_mean=True, with_std=True)"
      ]
     },
     "execution_count": 310,
     "metadata": {},
     "output_type": "execute_result"
    }
   ],
   "source": [
    "scaler.fit(Z)"
   ]
  },
  {
   "cell_type": "code",
   "execution_count": 311,
   "metadata": {},
   "outputs": [
    {
     "name": "stdout",
     "output_type": "stream",
     "text": [
      "[[-1.71695666  0.63254485]\n",
      " [ 0.2934677   1.22096274]\n",
      " [ 0.74174011 -1.61451934]\n",
      " ...\n",
      " [-0.10542407  0.05922287]\n",
      " [-0.8930243   0.28672063]\n",
      " [ 0.31249053  0.11851314]]\n"
     ]
    }
   ],
   "source": [
    "print(scaler.transform(Z))"
   ]
  },
  {
   "cell_type": "code",
   "execution_count": 337,
   "metadata": {},
   "outputs": [],
   "source": [
    "db = np.absolute(newDF[[\"DAYS_BIRTH\"]])"
   ]
  },
  {
   "cell_type": "code",
   "execution_count": 338,
   "metadata": {},
   "outputs": [
    {
     "data": {
      "text/plain": [
       "<matplotlib.axes._subplots.AxesSubplot at 0x7fe68c943128>"
      ]
     },
     "execution_count": 338,
     "metadata": {},
     "output_type": "execute_result"
    },
    {
     "data": {
      "image/png": "[encoded data removed]",
      "text/plain": [
       "<Figure size 432x288 with 1 Axes>"
      ]
     },
     "metadata": {},
     "output_type": "display_data"
    }
   ],
   "source": [
    "db.plot(kind = \"hist\")"
   ]
  },
  {
   "cell_type": "code",
   "execution_count": 342,
   "metadata": {},
   "outputs": [
    {
     "data": {
      "text/plain": [
       "SkewtestResult(statistic=array([26.10082825]), pvalue=array([3.56771536e-150]))"
      ]
     },
     "execution_count": 342,
     "metadata": {},
     "output_type": "execute_result"
    }
   ],
   "source": [
    "skewtest(db)"
   ]
  },
  {
   "cell_type": "code",
   "execution_count": 332,
   "metadata": {},
   "outputs": [
    {
     "data": {
      "text/plain": [
       "<matplotlib.axes._subplots.AxesSubplot at 0x7fe66bed26d8>"
      ]
     },
     "execution_count": 332,
     "metadata": {},
     "output_type": "execute_result"
    },
    {
     "data": {
      "image/png": "[encoded data removed]",
      "text/plain": [
       "<Figure size 432x288 with 1 Axes>"
      ]
     },
     "metadata": {},
     "output_type": "display_data"
    }
   ],
   "source": [
    "transDF[\"DAYS_BIRTH\"].plot(kind = \"hist\")"
   ]
  },
  {
   "cell_type": "code",
   "execution_count": 30,
   "metadata": {},
   "outputs": [],
   "source": [
    "model = Pipeline([('features', fu)])"
   ]
  },
  {
   "cell_type": "code",
   "execution_count": 31,
   "metadata": {},
   "outputs": [
    {
     "data": {
      "text/plain": [
       "Pipeline(memory=None,\n",
       "     steps=[('features', FeatureUnion(n_jobs=1,\n",
       "       transformer_list=[('numeric', Pipeline(memory=None,\n",
       "     steps=[('selector', TypeSelector(dtype=<class 'numpy.number'>)), ('scaler', StandardScaler(copy=True, with_mean=True, with_std=True))])), ('boolean', Pipeline(memory=None, steps=[('selector', TypeSelector(dtype='bool'))])), ('categorical', Pip...', dtype=<class 'numpy.float64'>,\n",
       "       handle_unknown='ignore', n_values='auto', sparse=True))]))],\n",
       "       transformer_weights=None))])"
      ]
     },
     "execution_count": 31,
     "metadata": {},
     "output_type": "execute_result"
    }
   ],
   "source": [
    "model"
   ]
  },
  {
   "cell_type": "code",
   "execution_count": 56,
   "metadata": {},
   "outputs": [],
   "source": [
    "J=Z[\"NAME_EDUCATION_TYPE\"]"
   ]
  },
  {
   "cell_type": "code",
   "execution_count": 62,
   "metadata": {},
   "outputs": [
    {
     "data": {
      "text/plain": [
       "0         Secondary/secondaryspecial\n",
       "1                    Highereducation\n",
       "2         Secondary/secondaryspecial\n",
       "3         Secondary/secondaryspecial\n",
       "4         Secondary/secondaryspecial\n",
       "5         Secondary/secondaryspecial\n",
       "6                    Highereducation\n",
       "7                    Highereducation\n",
       "8         Secondary/secondaryspecial\n",
       "9         Secondary/secondaryspecial\n",
       "10                   Highereducation\n",
       "11        Secondary/secondaryspecial\n",
       "12        Secondary/secondaryspecial\n",
       "13        Secondary/secondaryspecial\n",
       "14        Secondary/secondaryspecial\n",
       "15        Secondary/secondaryspecial\n",
       "16        Secondary/secondaryspecial\n",
       "17        Secondary/secondaryspecial\n",
       "18        Secondary/secondaryspecial\n",
       "19                   Highereducation\n",
       "20        Secondary/secondaryspecial\n",
       "21        Secondary/secondaryspecial\n",
       "22        Secondary/secondaryspecial\n",
       "23        Secondary/secondaryspecial\n",
       "24        Secondary/secondaryspecial\n",
       "25        Secondary/secondaryspecial\n",
       "26        Secondary/secondaryspecial\n",
       "27        Secondary/secondaryspecial\n",
       "28                   Highereducation\n",
       "29                   Highereducation\n",
       "                     ...            \n",
       "307481    Secondary/secondaryspecial\n",
       "307482    Secondary/secondaryspecial\n",
       "307483    Secondary/secondaryspecial\n",
       "307484    Secondary/secondaryspecial\n",
       "307485    Secondary/secondaryspecial\n",
       "307486               Highereducation\n",
       "307487    Secondary/secondaryspecial\n",
       "307488               Highereducation\n",
       "307489    Secondary/secondaryspecial\n",
       "307490               Highereducation\n",
       "307491    Secondary/secondaryspecial\n",
       "307492    Secondary/secondaryspecial\n",
       "307493    Secondary/secondaryspecial\n",
       "307494    Secondary/secondaryspecial\n",
       "307495               Highereducation\n",
       "307496               Highereducation\n",
       "307497    Secondary/secondaryspecial\n",
       "307498    Secondary/secondaryspecial\n",
       "307499    Secondary/secondaryspecial\n",
       "307500               Highereducation\n",
       "307501    Secondary/secondaryspecial\n",
       "307502    Secondary/secondaryspecial\n",
       "307503               Highereducation\n",
       "307504    Secondary/secondaryspecial\n",
       "307505    Secondary/secondaryspecial\n",
       "307506    Secondary/secondaryspecial\n",
       "307507    Secondary/secondaryspecial\n",
       "307508               Highereducation\n",
       "307509    Secondary/secondaryspecial\n",
       "307510               Highereducation\n",
       "Name: NAME_EDUCATION_TYPE, Length: 307511, dtype: object"
      ]
     },
     "execution_count": 62,
     "metadata": {},
     "output_type": "execute_result"
    }
   ],
   "source": [
    "J.str.replace(' ', '')"
   ]
  },
  {
   "cell_type": "markdown",
   "metadata": {},
   "source": [
    "## Imputing Missing Class Values"
   ]
  },
  {
   "cell_type": "code",
   "execution_count": 32,
   "metadata": {},
   "outputs": [],
   "source": [
    "import numpy as np\n",
    "from sklearn.neighbors import KNeighborsClassifier"
   ]
  },
  {
   "cell_type": "code",
   "execution_count": 33,
   "metadata": {},
   "outputs": [],
   "source": [
    "KN = newDF[\"NAME_EDUCATION_TYPE\"]"
   ]
  },
  {
   "cell_type": "code",
   "execution_count": 41,
   "metadata": {},
   "outputs": [
    {
     "data": {
      "text/plain": [
       "0"
      ]
     },
     "execution_count": 41,
     "metadata": {},
     "output_type": "execute_result"
    }
   ],
   "source": [
    "KN.isnull().sum()"
   ]
  },
  {
   "cell_type": "code",
   "execution_count": 38,
   "metadata": {},
   "outputs": [],
   "source": []
  },
  {
   "cell_type": "code",
   "execution_count": 39,
   "metadata": {},
   "outputs": [
    {
     "data": {
      "text/plain": [
       "array(['Secondary / secondary special', 'Higher education',\n",
       "       'Secondary / secondary special', ..., 'Higher education',\n",
       "       'Secondary / secondary special', 'Higher education'], dtype=object)"
      ]
     },
     "execution_count": 39,
     "metadata": {},
     "output_type": "execute_result"
    }
   ],
   "source": [
    "kn"
   ]
  },
  {
   "cell_type": "code",
   "execution_count": null,
   "metadata": {},
   "outputs": [],
   "source": []
  },
  {
   "cell_type": "markdown",
   "metadata": {},
   "source": [
    "## Test out skew for determining when to Log fit"
   ]
  },
  {
   "cell_type": "code",
   "execution_count": 59,
   "metadata": {},
   "outputs": [],
   "source": [
    "from scipy.stats  import skewtest, skew"
   ]
  },
  {
   "cell_type": "code",
   "execution_count": 36,
   "metadata": {},
   "outputs": [],
   "source": [
    "sTest = newDF[\"AMT_INCOME_TOTAL\"]"
   ]
  },
  {
   "cell_type": "code",
   "execution_count": 157,
   "metadata": {},
   "outputs": [],
   "source": [
    "qTest = newDF[\"DAYS_BIRTH\"]"
   ]
  },
  {
   "cell_type": "code",
   "execution_count": null,
   "metadata": {},
   "outputs": [],
   "source": []
  },
  {
   "cell_type": "code",
   "execution_count": 56,
   "metadata": {},
   "outputs": [
    {
     "data": {
      "text/plain": [
       "<matplotlib.axes._subplots.AxesSubplot at 0x7fe65cefada0>"
      ]
     },
     "execution_count": 56,
     "metadata": {},
     "output_type": "execute_result"
    },
    {
     "data": {
      "image/png": "[encoded data removed]",
      "text/plain": [
       "<Figure size 1152x720 with 1 Axes>"
      ]
     },
     "metadata": {},
     "output_type": "display_data"
    }
   ],
   "source": [
    "sTest.plot(kind = 'hist', bins = 1000, figsize = (16,10), xlim = (0, 1000000))"
   ]
  },
  {
   "cell_type": "code",
   "execution_count": 158,
   "metadata": {},
   "outputs": [
    {
     "data": {
      "text/plain": [
       "SkewtestResult(statistic=1269.2229361102025, pvalue=0.0)"
      ]
     },
     "execution_count": 158,
     "metadata": {},
     "output_type": "execute_result"
    }
   ],
   "source": [
    "skewtest(sTest)"
   ]
  },
  {
   "cell_type": "code",
   "execution_count": null,
   "metadata": {},
   "outputs": [],
   "source": []
  },
  {
   "cell_type": "code",
   "execution_count": 159,
   "metadata": {},
   "outputs": [
    {
     "data": {
      "text/plain": [
       "SkewtestResult(statistic=-26.100828246519708, pvalue=3.5677153646450325e-150)"
      ]
     },
     "execution_count": 159,
     "metadata": {},
     "output_type": "execute_result"
    }
   ],
   "source": [
    "skewtest(qTest)"
   ]
  },
  {
   "cell_type": "code",
   "execution_count": 60,
   "metadata": {},
   "outputs": [
    {
     "data": {
      "text/plain": [
       "391.55774412283097"
      ]
     },
     "execution_count": 60,
     "metadata": {},
     "output_type": "execute_result"
    }
   ],
   "source": [
    "skew(sTest)"
   ]
  },
  {
   "cell_type": "code",
   "execution_count": 90,
   "metadata": {},
   "outputs": [],
   "source": [
    "def transform(X):\n",
    "    zscore, pvalue = skewtest(X)\n",
    "    if pvalue <= 0.05:\n",
    "        print(pvalue)\n",
    "        return np.log(X) \n",
    "    else:\n",
    "        return X"
   ]
  },
  {
   "cell_type": "code",
   "execution_count": 91,
   "metadata": {},
   "outputs": [
    {
     "name": "stdout",
     "output_type": "stream",
     "text": [
      "0.0\n"
     ]
    },
    {
     "data": {
      "text/plain": [
       "<matplotlib.axes._subplots.AxesSubplot at 0x7fe688b96cf8>"
      ]
     },
     "execution_count": 91,
     "metadata": {},
     "output_type": "execute_result"
    },
    {
     "data": {
      "image/png": "[encoded data removed]",
      "text/plain": [
       "<Figure size 1152x720 with 1 Axes>"
      ]
     },
     "metadata": {},
     "output_type": "display_data"
    }
   ],
   "source": [
    "transform(sTest).plot(kind = 'hist', bins = 50, figsize = (16,10))"
   ]
  },
  {
   "cell_type": "code",
   "execution_count": 186,
   "metadata": {},
   "outputs": [],
   "source": [
    "numbers = [1,2,3,10]\n",
    "compare = [0,3,4,5]"
   ]
  },
  {
   "cell_type": "code",
   "execution_count": 189,
   "metadata": {},
   "outputs": [
    {
     "data": {
      "text/plain": [
       "[1, 1.0986122886681096, 1.3862943611198906, 10]"
      ]
     },
     "execution_count": 189,
     "metadata": {},
     "output_type": "execute_result"
    }
   ],
   "source": [
    "[np.log1p(X) if X<pvalues else X for X, pvalues in zip(numbers, compare)]"
   ]
  },
  {
   "cell_type": "code",
   "execution_count": 187,
   "metadata": {},
   "outputs": [
    {
     "data": {
      "text/plain": [
       "<zip at 0x7fe65b512408>"
      ]
     },
     "execution_count": 187,
     "metadata": {},
     "output_type": "execute_result"
    }
   ],
   "source": [
    "zip(numbers, compare)"
   ]
  },
  {
   "cell_type": "code",
   "execution_count": 188,
   "metadata": {},
   "outputs": [
    {
     "name": "stdout",
     "output_type": "stream",
     "text": [
      "1 0\n",
      "2 3\n",
      "3 4\n",
      "10 5\n"
     ]
    }
   ],
   "source": [
    "for x, y in zip(numbers, compare):\n",
    "    print(x,y)"
   ]
  },
  {
   "cell_type": "code",
   "execution_count": null,
   "metadata": {},
   "outputs": [],
   "source": []
  }
 ],
 "metadata": {
  "kernelspec": {
   "display_name": "Python 3",
   "language": "python",
   "name": "python3"
  },
  "language_info": {
   "codemirror_mode": {
    "name": "ipython",
    "version": 3
   },
   "file_extension": ".py",
   "mimetype": "text/x-python",
   "name": "python",
   "nbconvert_exporter": "python",
   "pygments_lexer": "ipython3",
   "version": "3.6.5"
  }
 },
 "nbformat": 4,
 "nbformat_minor": 2
}
