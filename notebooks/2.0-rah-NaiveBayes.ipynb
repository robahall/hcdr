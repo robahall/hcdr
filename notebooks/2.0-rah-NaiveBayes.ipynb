{
 "cells": [
  {
   "cell_type": "code",
   "execution_count": 1,
   "metadata": {},
   "outputs": [],
   "source": [
    "import os\n",
    "import sys\n",
    "\n",
    "import numpy as np\n",
    "import pandas as pd\n",
    "import pandas_profiling\n",
    "\n",
    "import matplotlib.pyplot as plt\n",
    "import seaborn as sns\n",
    "%matplotlib inline\n",
    "sns.set(style=\"ticks\", color_codes=True)\n",
    "\n",
    "sys.path.append('../src/features')\n",
    "import build_features as bf"
   ]
  },
  {
   "cell_type": "code",
   "execution_count": 2,
   "metadata": {},
   "outputs": [],
   "source": [
    "orignalDF = pd.read_csv(\"../data/raw/application_train.csv\")"
   ]
  },
  {
   "cell_type": "code",
   "execution_count": 3,
   "metadata": {},
   "outputs": [
    {
     "ename": "NameError",
     "evalue": "name 'np' is not defined",
     "output_type": "error",
     "traceback": [
      "\u001b[0;31m---------------------------------------------------------------------------\u001b[0m",
      "\u001b[0;31mNameError\u001b[0m                                 Traceback (most recent call last)",
      "\u001b[0;32m<ipython-input-3-6fc8824aa3f1>\u001b[0m in \u001b[0;36m<module>\u001b[0;34m()\u001b[0m\n\u001b[0;32m----> 1\u001b[0;31m \u001b[0mcleanTrain\u001b[0m\u001b[0;34m=\u001b[0m\u001b[0mbf\u001b[0m\u001b[0;34m.\u001b[0m\u001b[0mexecuteFeatures\u001b[0m\u001b[0;34m(\u001b[0m\u001b[0morignalDF\u001b[0m\u001b[0;34m)\u001b[0m\u001b[0;34m\u001b[0m\u001b[0m\n\u001b[0m",
      "\u001b[0;32m~/Projects/hcdr/src/features/build_features.py\u001b[0m in \u001b[0;36mexecuteFeatures\u001b[0;34m(dfIn)\u001b[0m\n\u001b[1;32m     49\u001b[0m     \u001b[0mdfOut\u001b[0m \u001b[0;34m=\u001b[0m \u001b[0mdfIn\u001b[0m\u001b[0;34m[\u001b[0m\u001b[0;34m'TARGET'\u001b[0m\u001b[0;34m]\u001b[0m  \u001b[0;31m#update this with numerical columns that don't need cleaning\u001b[0m\u001b[0;34m\u001b[0m\u001b[0m\n\u001b[1;32m     50\u001b[0m     \u001b[0mdfOut\u001b[0m \u001b[0;34m=\u001b[0m \u001b[0mdaysToYears\u001b[0m\u001b[0;34m(\u001b[0m\u001b[0mdfIn\u001b[0m\u001b[0;34m,\u001b[0m \u001b[0mdfOut\u001b[0m\u001b[0;34m)\u001b[0m\u001b[0;34m\u001b[0m\u001b[0m\n\u001b[0;32m---> 51\u001b[0;31m     \u001b[0mdfOut\u001b[0m \u001b[0;34m=\u001b[0m \u001b[0mnormalizeIncome\u001b[0m\u001b[0;34m(\u001b[0m\u001b[0mdfIn\u001b[0m\u001b[0;34m,\u001b[0m \u001b[0mdfOut\u001b[0m\u001b[0;34m)\u001b[0m\u001b[0;34m\u001b[0m\u001b[0m\n\u001b[0m\u001b[1;32m     52\u001b[0m     \u001b[0mdfOut\u001b[0m \u001b[0;34m=\u001b[0m \u001b[0msimplifyEducation\u001b[0m\u001b[0;34m(\u001b[0m\u001b[0mdfIn\u001b[0m\u001b[0;34m,\u001b[0m \u001b[0mdfOut\u001b[0m\u001b[0;34m)\u001b[0m\u001b[0;34m\u001b[0m\u001b[0m\n\u001b[1;32m     53\u001b[0m     \u001b[0mdfOut\u001b[0m \u001b[0;34m=\u001b[0m \u001b[0msimplifyFamily\u001b[0m\u001b[0;34m(\u001b[0m\u001b[0mdfIn\u001b[0m\u001b[0;34m,\u001b[0m \u001b[0mdfOut\u001b[0m\u001b[0;34m)\u001b[0m\u001b[0;34m\u001b[0m\u001b[0m\n",
      "\u001b[0;32m~/Projects/hcdr/src/features/build_features.py\u001b[0m in \u001b[0;36mnormalizeIncome\u001b[0;34m(dfIn, dfOut)\u001b[0m\n\u001b[1;32m     12\u001b[0m \u001b[0;32mdef\u001b[0m \u001b[0mnormalizeIncome\u001b[0m\u001b[0;34m(\u001b[0m\u001b[0mdfIn\u001b[0m\u001b[0;34m,\u001b[0m \u001b[0mdfOut\u001b[0m\u001b[0;34m)\u001b[0m\u001b[0;34m:\u001b[0m\u001b[0;34m\u001b[0m\u001b[0m\n\u001b[1;32m     13\u001b[0m     \u001b[0;34m\"\"\"Log transform income and standardize income\"\"\"\u001b[0m\u001b[0;34m\u001b[0m\u001b[0m\n\u001b[0;32m---> 14\u001b[0;31m     \u001b[0mnIncome\u001b[0m \u001b[0;34m=\u001b[0m \u001b[0mnp\u001b[0m\u001b[0;34m.\u001b[0m\u001b[0mlog\u001b[0m\u001b[0;34m(\u001b[0m\u001b[0mdfIn\u001b[0m\u001b[0;34m[\u001b[0m\u001b[0;34m'AMT_INCOME_TOTAL'\u001b[0m\u001b[0;34m]\u001b[0m\u001b[0;34m)\u001b[0m\u001b[0;34m\u001b[0m\u001b[0m\n\u001b[0m\u001b[1;32m     15\u001b[0m     \u001b[0mnIncome\u001b[0m\u001b[0;34m.\u001b[0m\u001b[0mrename\u001b[0m\u001b[0;34m(\u001b[0m\u001b[0;34m'logAMT_INCOME'\u001b[0m\u001b[0;34m,\u001b[0m \u001b[0minplace\u001b[0m \u001b[0;34m=\u001b[0m \u001b[0;32mTrue\u001b[0m\u001b[0;34m)\u001b[0m\u001b[0;34m\u001b[0m\u001b[0m\n\u001b[1;32m     16\u001b[0m     \u001b[0mnMean\u001b[0m \u001b[0;34m=\u001b[0m \u001b[0mdfIn\u001b[0m\u001b[0;34m[\u001b[0m\u001b[0;34m'AMT_INCOME_TOTAL'\u001b[0m\u001b[0;34m]\u001b[0m\u001b[0;34m.\u001b[0m\u001b[0mmean\u001b[0m\u001b[0;34m(\u001b[0m\u001b[0;34m)\u001b[0m \u001b[0;31m## Finds mean\u001b[0m\u001b[0;34m\u001b[0m\u001b[0m\n",
      "\u001b[0;31mNameError\u001b[0m: name 'np' is not defined"
     ]
    }
   ],
   "source": [
    "cleanTrain=bf.executeFeatures(orignalDF)"
   ]
  },
  {
   "cell_type": "code",
   "execution_count": 50,
   "metadata": {},
   "outputs": [
    {
     "data": {
      "text/plain": [
       "Index(['TARGET', 'DAYS_BIRTH', 'EDU_Academic degree', 'EDU_Higher education',\n",
       "       'EDU_Incomplete higher', 'EDU_Lower secondary',\n",
       "       'EDU_Secondary / secondary special', 'FAM_Civil marriage',\n",
       "       'FAM_Married', 'FAM_Separated', 'FAM_Single / not married',\n",
       "       'FAM_Unknown', 'FAM_Widow', 'INC_Businessman',\n",
       "       'INC_Commercial associate', 'INC_Maternity leave', 'INC_Pensioner',\n",
       "       'INC_State servant', 'INC_Student', 'INC_Unemployed', 'INC_Working'],\n",
       "      dtype='object')"
      ]
     },
     "execution_count": 50,
     "metadata": {},
     "output_type": "execute_result"
    }
   ],
   "source": [
    "cleanTrain.columns"
   ]
  },
  {
   "cell_type": "markdown",
   "metadata": {},
   "source": [
    "## Naive Bayes model build"
   ]
  },
  {
   "cell_type": "code",
   "execution_count": 11,
   "metadata": {},
   "outputs": [],
   "source": [
    "from sklearn.model_selection import train_test_split\n",
    "from sklearn.naive_bayes import GaussianNB\n",
    "from sklearn.model_selection import cross_val_score"
   ]
  },
  {
   "cell_type": "code",
   "execution_count": 12,
   "metadata": {},
   "outputs": [],
   "source": [
    "X_train, X_test, y_train, y_test = train_test_split(cleanTrain.iloc[:,1:], \n",
    "                                                    cleanTrain.TARGET, test_size = 0.2, random_state = 0)"
   ]
  },
  {
   "cell_type": "code",
   "execution_count": 13,
   "metadata": {},
   "outputs": [],
   "source": [
    "model = GaussianNB().fit(X_train, y_train)"
   ]
  },
  {
   "cell_type": "code",
   "execution_count": 15,
   "metadata": {},
   "outputs": [
    {
     "data": {
      "text/plain": [
       "0.13253012048192772"
      ]
     },
     "execution_count": 15,
     "metadata": {},
     "output_type": "execute_result"
    }
   ],
   "source": [
    "model.score(X_test, y_test)"
   ]
  },
  {
   "cell_type": "markdown",
   "metadata": {},
   "source": [
    "## CV "
   ]
  },
  {
   "cell_type": "code",
   "execution_count": 39,
   "metadata": {},
   "outputs": [],
   "source": [
    "from sklearn.cross_validation import KFold\n",
    "from sklearn.metrics import make_scorer, accuracy_score"
   ]
  },
  {
   "cell_type": "code",
   "execution_count": 40,
   "metadata": {},
   "outputs": [],
   "source": [
    "def run_kfold(clf, X_all, y_all):\n",
    "    kf = KFold(307511, n_folds = 10)\n",
    "    outcomes = []\n",
    "    fold = 0\n",
    "    for train_i, test_i in kf:\n",
    "        fold += 1\n",
    "        X_train, X_test = X_all.values[train_i], X_all.values[test_i]\n",
    "        y_train, y_test = y_all.values[train_i], y_all.values[test_i]\n",
    "        clf.fit(X_train, y_train)\n",
    "        predictions = clf.predict(X_test)\n",
    "        accuracy = accuracy_score(y_test, predictions)\n",
    "        outcomes.append(accuracy)\n",
    "        print(\"Fold {0} accuracy: {1}\".format(fold, accuracy))\n",
    "    mean_outcome = np.mean(outcomes)\n",
    "    print(\"Mean Accuracy: {0}\".format(mean_outcome))"
   ]
  },
  {
   "cell_type": "code",
   "execution_count": 41,
   "metadata": {},
   "outputs": [
    {
     "name": "stdout",
     "output_type": "stream",
     "text": [
      "Fold 1 accuracy: 0.13260926118626432\n",
      "Fold 2 accuracy: 0.13625573152092615\n",
      "Fold 3 accuracy: 0.13319892036031347\n",
      "Fold 4 accuracy: 0.13593053884426523\n",
      "Fold 5 accuracy: 0.1348248837436181\n",
      "Fold 6 accuracy: 0.13183311111833762\n",
      "Fold 7 accuracy: 0.13742642515690548\n",
      "Fold 8 accuracy: 0.11632142044161166\n",
      "Fold 9 accuracy: 0.13261357354232384\n",
      "Fold 10 accuracy: 0.12467887223179734\n",
      "Mean Accuracy: 0.13156927381463634\n"
     ]
    }
   ],
   "source": [
    "run_kfold(model, cleanTrain.iloc[:,1:], cleanTrain.TARGET)"
   ]
  },
  {
   "cell_type": "markdown",
   "metadata": {},
   "source": [
    "### Determine ROC"
   ]
  },
  {
   "cell_type": "code",
   "execution_count": 17,
   "metadata": {},
   "outputs": [],
   "source": [
    "from sklearn.metrics import roc_curve, auc"
   ]
  },
  {
   "cell_type": "code",
   "execution_count": 18,
   "metadata": {},
   "outputs": [],
   "source": [
    "n_samples, n_features = cleanTrain.iloc[:,1:].shape"
   ]
  },
  {
   "cell_type": "code",
   "execution_count": 19,
   "metadata": {},
   "outputs": [],
   "source": [
    "predictions = model.predict(X_test)"
   ]
  },
  {
   "cell_type": "code",
   "execution_count": 42,
   "metadata": {},
   "outputs": [
    {
     "name": "stdout",
     "output_type": "stream",
     "text": [
      "[1 1 1 ... 1 1 1]\n"
     ]
    }
   ],
   "source": [
    "print(predictions)"
   ]
  },
  {
   "cell_type": "code",
   "execution_count": 20,
   "metadata": {},
   "outputs": [],
   "source": [
    "fpr, tpr, _ = roc_curve(y_test, predictions)\n",
    "roc_auc = auc(fpr, tpr)"
   ]
  },
  {
   "cell_type": "code",
   "execution_count": 37,
   "metadata": {},
   "outputs": [
    {
     "data": {
      "image/png": "[encoded data removed]",
      "text/plain": [
       "<Figure size 432x288 with 1 Axes>"
      ]
     },
     "metadata": {},
     "output_type": "display_data"
    }
   ],
   "source": [
    "plt.title('Receiver Operating Characteristic')\n",
    "plt.plot(fpr, tpr, 'b',label='AUC ={:3.2f}'.format(roc_auc))\n",
    "plt.legend(loc='lower right')\n",
    "plt.plot([0,1],[0,1],'r--')\n",
    "plt.xlim([-0.1,1.2])\n",
    "plt.ylim([-0.1,1.2])\n",
    "plt.ylabel('True Positive Rate')\n",
    "plt.xlabel('False Positive Rate')\n",
    "plt.show()"
   ]
  },
  {
   "cell_type": "code",
   "execution_count": null,
   "metadata": {},
   "outputs": [],
   "source": []
  }
 ],
 "metadata": {
  "kernelspec": {
   "display_name": "Python 3",
   "language": "python",
   "name": "python3"
  },
  "language_info": {
   "codemirror_mode": {
    "name": "ipython",
    "version": 3
   },
   "file_extension": ".py",
   "mimetype": "text/x-python",
   "name": "python",
   "nbconvert_exporter": "python",
   "pygments_lexer": "ipython3",
   "version": "3.6.5"
  }
 },
 "nbformat": 4,
 "nbformat_minor": 2
}
