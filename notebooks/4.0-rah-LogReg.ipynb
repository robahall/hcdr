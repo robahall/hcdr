{
 "cells": [
  {
   "cell_type": "code",
   "execution_count": 57,
   "metadata": {},
   "outputs": [],
   "source": [
    "import os\n",
    "import sys\n",
    "\n",
    "import numpy as np\n",
    "import pandas as pd\n",
    "import pandas_profiling\n",
    "\n",
    "import matplotlib.pyplot as plt\n",
    "import seaborn as sns\n",
    "%matplotlib inline\n",
    "sns.set(style=\"ticks\", color_codes=True)\n",
    "import warnings\n",
    "warnings.filterwarnings('ignore')\n",
    "\n",
    "sys.path.append('../src/features')\n",
    "import build_features as bf"
   ]
  },
  {
   "cell_type": "code",
   "execution_count": 5,
   "metadata": {},
   "outputs": [],
   "source": [
    "originalDF = pd.read_csv(\"../data/raw/application_train.csv\")"
   ]
  },
  {
   "cell_type": "code",
   "execution_count": 6,
   "metadata": {},
   "outputs": [],
   "source": [
    "cleanTrain=bf.executeFeatures(originalDF)"
   ]
  },
  {
   "cell_type": "code",
   "execution_count": 7,
   "metadata": {},
   "outputs": [
    {
     "name": "stdout",
     "output_type": "stream",
     "text": [
      "TARGET\n",
      "DAYS_BIRTH\n",
      "scaledLogINC\n",
      "DAYS_EMPLOYED_ANOM\n",
      "DAYS_EMPLOYED_ZERO\n",
      "DAYS_EMPLOYED\n",
      "EDU_Academic degree\n",
      "EDU_Higher education\n",
      "EDU_Incomplete higher\n",
      "EDU_Lower secondary\n",
      "EDU_Secondary / secondary special\n",
      "FAM_Civil marriage\n",
      "FAM_Married\n",
      "FAM_Separated\n",
      "FAM_Single / not married\n",
      "FAM_Unknown\n",
      "FAM_Widow\n",
      "INC_Businessman\n",
      "INC_Commercial associate\n",
      "INC_Maternity leave\n",
      "INC_Pensioner\n",
      "INC_State servant\n",
      "INC_Student\n",
      "INC_Unemployed\n",
      "INC_Working\n"
     ]
    }
   ],
   "source": [
    "for i in cleanTrain.columns:\n",
    "    print(i)"
   ]
  },
  {
   "cell_type": "code",
   "execution_count": 8,
   "metadata": {},
   "outputs": [],
   "source": [
    "cleanTrain.columns = ['TARGET', 'DAYS_BIRTH', 'scaledLogINC', 'DAYS_EMPLOYED_ANOM' ,'DAYS_EMPLOYED_ZERO','DAYS_EMPLOYED', \n",
    " 'EDU_Academic_degree', 'EDU_Higher_education', 'EDU_Incomplete_higher', 'EDU_Lower_secondary', \n",
    " 'EDU_Secondary_special', 'FAM_Civil_marriage', 'FAM_Married', 'FAM_Separated', 'FAM_Single', 'FAM_Unknown',\n",
    " 'FAM_Widow','INC_Businessman','INC_Commercial','INC_Maternity' , 'INC_Pensioner','INC_State','INC_Student',\n",
    " 'INC_Unemployed','INC_Working']"
   ]
  },
  {
   "cell_type": "markdown",
   "metadata": {},
   "source": [
    "## Build Model"
   ]
  },
  {
   "cell_type": "code",
   "execution_count": 14,
   "metadata": {},
   "outputs": [],
   "source": [
    "from sklearn.model_selection import train_test_split\n",
    "from sklearn import linear_model\n",
    "from sklearn.model_selection import cross_val_score"
   ]
  },
  {
   "cell_type": "code",
   "execution_count": 15,
   "metadata": {},
   "outputs": [],
   "source": [
    "X_train, X_test, y_train, y_test = train_test_split(cleanTrain.iloc[:,1:], \n",
    "                                                    cleanTrain.TARGET, test_size = 0.2, random_state = 0)"
   ]
  },
  {
   "cell_type": "code",
   "execution_count": 16,
   "metadata": {},
   "outputs": [],
   "source": [
    "clf = linear_model.LogisticRegression().fit(X_train, y_train)"
   ]
  },
  {
   "cell_type": "code",
   "execution_count": 17,
   "metadata": {},
   "outputs": [
    {
     "data": {
      "text/plain": [
       "0.9210607612636782"
      ]
     },
     "execution_count": 17,
     "metadata": {},
     "output_type": "execute_result"
    }
   ],
   "source": [
    "clf.score(X_test, y_test)"
   ]
  },
  {
   "cell_type": "markdown",
   "metadata": {},
   "source": [
    "## Investigate with ANOVA"
   ]
  },
  {
   "cell_type": "code",
   "execution_count": 42,
   "metadata": {},
   "outputs": [],
   "source": [
    "import statsmodels.api as sm\n",
    "from statsmodels.formula.api import ols"
   ]
  },
  {
   "cell_type": "code",
   "execution_count": 43,
   "metadata": {},
   "outputs": [],
   "source": [
    "anovaTest = cleanTrain.columns[0] + \" ~ \" + cleanTrain.columns[1]\n",
    "for i in cleanTrain.columns[2:]:\n",
    "    anovaTest = anovaTest + \" + \" + i"
   ]
  },
  {
   "cell_type": "code",
   "execution_count": 44,
   "metadata": {},
   "outputs": [
    {
     "data": {
      "text/plain": [
       "'TARGET ~ DAYS_BIRTH + scaledLogINC + DAYS_EMPLOYED_ANOM + DAYS_EMPLOYED_ZERO + DAYS_EMPLOYED + EDU_Academic_degree + EDU_Higher_education + EDU_Incomplete_higher + EDU_Lower_secondary + EDU_Secondary_special + FAM_Civil_marriage + FAM_Married + FAM_Separated + FAM_Single + FAM_Unknown + FAM_Widow + INC_Businessman + INC_Commercial + INC_Maternity + INC_Pensioner + INC_State + INC_Student + INC_Unemployed + INC_Working'"
      ]
     },
     "execution_count": 44,
     "metadata": {},
     "output_type": "execute_result"
    }
   ],
   "source": [
    "anovaTest"
   ]
  },
  {
   "cell_type": "code",
   "execution_count": 45,
   "metadata": {},
   "outputs": [
    {
     "name": "stdout",
     "output_type": "stream",
     "text": [
      "                          sum_sq   df           F         PR(>F)\n",
      "DAYS_EMPLOYED_ZERO      0.324786  1.0    4.444242   3.501994e-02\n",
      "DAYS_BIRTH             51.376349  1.0  703.014006  9.886252e-155\n",
      "scaledLogINC            0.394071  1.0    5.392312   2.022630e-02\n",
      "DAYS_EMPLOYED          58.629205  1.0  802.259269  2.939597e-176\n",
      "EDU_Incomplete_higher   0.430684  1.0    5.893319   1.519900e-02\n",
      "EDU_Lower_secondary     5.547032  1.0   75.903428   2.993175e-18\n",
      "EDU_Secondary_special   2.908932  1.0   39.804702   2.810483e-10\n",
      "INC_Maternity           0.569982  1.0    7.799409   5.226656e-03\n",
      "INC_Unemployed          0.394666  1.0    5.400459   2.013210e-02\n"
     ]
    }
   ],
   "source": [
    "lm = ols(anovaTest, data=cleanTrain).fit()\n",
    "table = sm.stats.anova_lm(lm, typ=2)\n",
    "print(table[table['PR(>F)'] <= 0.05])"
   ]
  },
  {
   "cell_type": "code",
   "execution_count": 47,
   "metadata": {},
   "outputs": [
    {
     "data": {
      "text/plain": [
       "'TARGET ~ DAYS_BIRTH + scaledLogINC + DAYS_EMPLOYED_ANOM + DAYS_EMPLOYED_ZERO + DAYS_EMPLOYED + EDU_Academic_degree + EDU_Higher_education + EDU_Incomplete_higher + EDU_Lower_secondary + EDU_Secondary_special + FAM_Civil_marriage + FAM_Married + FAM_Separated + FAM_Single + FAM_Unknown + FAM_Widow + INC_Businessman + INC_Commercial + INC_Maternity + INC_Pensioner + INC_State + INC_Student + INC_Unemployed + INC_Working + DAYS_BIRTH:DAYS_EMPLOYED_ANOM + DAYS_BIRTH:DAYS_EMPLOYED_ZERO + DAYS_BIRTH:DAYS_EMPLOYED + DAYS_BIRTH:EDU_Academic_degree + DAYS_BIRTH:EDU_Higher_education + DAYS_BIRTH:EDU_Incomplete_higher + DAYS_BIRTH:EDU_Lower_secondary + DAYS_BIRTH:EDU_Secondary_special + DAYS_BIRTH:FAM_Civil_marriage + DAYS_BIRTH:FAM_Married + DAYS_BIRTH:FAM_Separated + DAYS_BIRTH:FAM_Single + DAYS_BIRTH:FAM_Unknown + DAYS_BIRTH:FAM_Widow + DAYS_BIRTH:INC_Businessman + DAYS_BIRTH:INC_Commercial + DAYS_BIRTH:INC_Maternity + DAYS_BIRTH:INC_Pensioner + DAYS_BIRTH:INC_State + DAYS_BIRTH:INC_Student + DAYS_BIRTH:INC_Unemployed + DAYS_BIRTH:INC_Working'"
      ]
     },
     "execution_count": 47,
     "metadata": {},
     "output_type": "execute_result"
    }
   ],
   "source": [
    "## Test interactions\n",
    "anovaTest = cleanTrain.columns[0] + \" ~ \" + cleanTrain.columns[1]\n",
    "for i in cleanTrain.columns[2:]:\n",
    "    anovaTest = anovaTest + \" + \" + i\n",
    "\n",
    "for i in cleanTrain.columns[3:]:\n",
    "    anovaTest = anovaTest + \" + DAYS_BIRTH:\" + i \n",
    "    \n",
    "anovaTest"
   ]
  },
  {
   "cell_type": "code",
   "execution_count": 48,
   "metadata": {},
   "outputs": [
    {
     "name": "stdout",
     "output_type": "stream",
     "text": [
      "                                  sum_sq   df           F         PR(>F)\n",
      "DAYS_EMPLOYED_ZERO              0.330010  1.0    4.520799   3.348599e-02\n",
      "DAYS_BIRTH:DAYS_EMPLOYED_ZERO   0.457253  1.0    6.263907   1.232273e-02\n",
      "scaledLogINC                    0.655153  1.0    8.974934   2.737303e-03\n",
      "DAYS_EMPLOYED                  59.672788  1.0  817.456684  1.488813e-179\n",
      "EDU_Lower_secondary             1.863282  1.0   25.525079   4.369190e-07\n",
      "EDU_Secondary_special           0.640526  1.0    8.774550   3.054858e-03\n",
      "INC_Maternity                   0.438533  1.0    6.007454   1.424612e-02\n",
      "INC_Unemployed                  0.306254  1.0    4.195370   4.053537e-02\n"
     ]
    }
   ],
   "source": [
    "lm = ols(anovaTest, data=cleanTrain).fit()\n",
    "table = sm.stats.anova_lm(lm, typ=2)\n",
    "print(table[table['PR(>F)'] <= 0.05])"
   ]
  },
  {
   "cell_type": "code",
   "execution_count": 58,
   "metadata": {
    "scrolled": false
   },
   "outputs": [
    {
     "name": "stdout",
     "output_type": "stream",
     "text": [
      "Interactions with: scaledLogINC\n",
      "DAYS_BIRTH               1.298117e-152\n",
      "DAYS_EMPLOYED            2.256492e-175\n",
      "EDU_Lower_secondary       8.121162e-08\n",
      "EDU_Secondary_special     1.999144e-04\n",
      "Name: PR(>F), dtype: float64\n",
      "\n",
      "\n",
      "Interactions with: DAYS_EMPLOYED_ANOM\n",
      "DAYS_BIRTH                      2.518416e-148\n",
      "DAYS_EMPLOYED                   1.429950e-174\n",
      "EDU_Lower_secondary              1.068323e-21\n",
      "EDU_Secondary_special            3.778773e-11\n",
      "DAYS_EMPLOYED_ANOM:FAM_Widow     2.394777e-04\n",
      "INC_Pensioner                    2.856222e-06\n",
      "INC_Unemployed                   4.576612e-24\n",
      "Name: PR(>F), dtype: float64\n",
      "\n",
      "\n",
      "Interactions with: DAYS_EMPLOYED_ZERO\n",
      "DAYS_BIRTH               9.042781e-155\n",
      "DAYS_EMPLOYED            2.966558e-176\n",
      "EDU_Lower_secondary       3.879206e-18\n",
      "EDU_Secondary_special     2.807682e-10\n",
      "Name: PR(>F), dtype: float64\n",
      "\n",
      "\n",
      "Interactions with: DAYS_EMPLOYED\n",
      "DAYS_BIRTH               2.656573e-156\n",
      "EDU_Lower_secondary       2.885163e-09\n",
      "EDU_Secondary_special     1.093286e-04\n",
      "Name: PR(>F), dtype: float64\n",
      "\n",
      "\n",
      "Interactions with: EDU_Academic_degree\n",
      "DAYS_BIRTH       1.009665e-154\n",
      "DAYS_EMPLOYED    2.994799e-176\n",
      "Name: PR(>F), dtype: float64\n",
      "\n",
      "\n",
      "Interactions with: EDU_Higher_education\n",
      "DAYS_BIRTH                             5.999316e-159\n",
      "DAYS_EMPLOYED                          5.046907e-176\n",
      "EDU_Incomplete_higher                   3.196378e-04\n",
      "EDU_Lower_secondary                     1.043452e-16\n",
      "EDU_Secondary_special                   1.424715e-07\n",
      "EDU_Higher_education:DAYS_EMPLOYED      3.240485e-18\n",
      "EDU_Higher_education:INC_Commercial     6.177615e-05\n",
      "EDU_Higher_education:INC_Maternity      1.685417e-04\n",
      "EDU_Higher_education:INC_Pensioner      9.963511e-07\n",
      "EDU_Higher_education:INC_State          9.059334e-05\n",
      "EDU_Higher_education:INC_Working        1.503054e-04\n",
      "Name: PR(>F), dtype: float64\n",
      "\n",
      "\n",
      "Interactions with: EDU_Incomplete_higher\n",
      "DAYS_BIRTH               2.794719e-155\n",
      "DAYS_EMPLOYED            1.480066e-176\n",
      "EDU_Lower_secondary       6.285969e-18\n",
      "EDU_Secondary_special     7.080451e-05\n",
      "Name: PR(>F), dtype: float64\n",
      "\n",
      "\n",
      "Interactions with: EDU_Lower_secondary\n",
      "DAYS_BIRTH       1.794496e-154\n",
      "DAYS_EMPLOYED    3.017909e-176\n",
      "Name: PR(>F), dtype: float64\n",
      "\n",
      "\n",
      "Interactions with: EDU_Secondary_special\n",
      "DAYS_BIRTH                             2.442777e-159\n",
      "DAYS_EMPLOYED                          1.298396e-176\n",
      "EDU_Lower_secondary                     6.720349e-09\n",
      "EDU_Secondary_special:DAYS_EMPLOYED     4.359308e-22\n",
      "EDU_Secondary_special:FAM_Single        5.354699e-05\n",
      "Name: PR(>F), dtype: float64\n",
      "\n",
      "\n",
      "Interactions with: FAM_Civil_marriage\n",
      "DAYS_BIRTH               5.891002e-155\n",
      "DAYS_EMPLOYED            3.792694e-176\n",
      "EDU_Lower_secondary       3.686659e-18\n",
      "EDU_Secondary_special     3.315206e-10\n",
      "Name: PR(>F), dtype: float64\n",
      "\n",
      "\n",
      "Interactions with: FAM_Married\n",
      "DAYS_BIRTH               7.419155e-154\n",
      "DAYS_EMPLOYED            1.140648e-176\n",
      "EDU_Lower_secondary       1.531609e-22\n",
      "EDU_Secondary_special     1.316967e-13\n",
      "Name: PR(>F), dtype: float64\n",
      "\n",
      "\n",
      "Interactions with: FAM_Separated\n",
      "DAYS_BIRTH               1.273160e-154\n",
      "DAYS_EMPLOYED            2.882033e-176\n",
      "EDU_Lower_secondary       1.931724e-17\n",
      "EDU_Secondary_special     1.711887e-09\n",
      "Name: PR(>F), dtype: float64\n",
      "\n",
      "\n",
      "Interactions with: FAM_Single\n",
      "DAYS_BIRTH               4.839790e-151\n",
      "DAYS_EMPLOYED            9.553793e-176\n",
      "EDU_Lower_secondary       9.588912e-18\n",
      "EDU_Secondary_special     5.874968e-10\n",
      "Name: PR(>F), dtype: float64\n",
      "\n",
      "\n",
      "Interactions with: FAM_Unknown\n",
      "DAYS_BIRTH             9.871870e-155\n",
      "DAYS_EMPLOYED          2.976904e-176\n",
      "EDU_Lower_secondary     4.640709e-26\n",
      "Name: PR(>F), dtype: float64\n",
      "\n",
      "\n",
      "Interactions with: FAM_Widow\n",
      "DAYS_BIRTH               8.492096e-150\n",
      "DAYS_EMPLOYED            2.713370e-176\n",
      "EDU_Lower_secondary       2.934451e-18\n",
      "EDU_Secondary_special     4.467395e-10\n",
      "Name: PR(>F), dtype: float64\n",
      "\n",
      "\n",
      "Interactions with: INC_Businessman\n",
      "DAYS_BIRTH       9.859536e-155\n",
      "DAYS_EMPLOYED    2.928375e-176\n",
      "Name: PR(>F), dtype: float64\n",
      "\n",
      "\n",
      "Interactions with: INC_Commercial\n",
      "DAYS_BIRTH                      1.146503e-153\n",
      "DAYS_EMPLOYED                   4.574073e-176\n",
      "EDU_Lower_secondary              7.298100e-24\n",
      "EDU_Secondary_special            5.267412e-14\n",
      "FAM_Civil_marriage               8.891367e-06\n",
      "FAM_Separated                    3.304863e-04\n",
      "FAM_Single                       1.121976e-04\n",
      "INC_Commercial:DAYS_EMPLOYED     5.291722e-06\n",
      "Name: PR(>F), dtype: float64\n",
      "\n",
      "\n",
      "Interactions with: INC_Maternity\n",
      "DAYS_BIRTH               1.141038e-154\n",
      "DAYS_EMPLOYED            2.406812e-176\n",
      "EDU_Secondary_special     5.959084e-08\n",
      "Name: PR(>F), dtype: float64\n",
      "\n",
      "\n",
      "Interactions with: INC_Pensioner\n",
      "DAYS_EMPLOYED_ANOM        1.194279e-05\n",
      "DAYS_EMPLOYED_ZERO        7.420044e-06\n",
      "DAYS_BIRTH               2.416343e-148\n",
      "DAYS_EMPLOYED            1.496229e-174\n",
      "EDU_Lower_secondary       1.294531e-19\n",
      "EDU_Secondary_special     5.057973e-10\n",
      "Name: PR(>F), dtype: float64\n",
      "\n",
      "\n",
      "Interactions with: INC_State\n",
      "DAYS_BIRTH                 2.584790e-155\n",
      "DAYS_EMPLOYED              4.108223e-176\n",
      "EDU_Lower_secondary         1.522401e-17\n",
      "EDU_Secondary_special       1.592370e-10\n",
      "INC_State:DAYS_EMPLOYED     1.402783e-05\n",
      "Name: PR(>F), dtype: float64\n",
      "\n",
      "\n",
      "Interactions with: INC_Student\n",
      "DAYS_BIRTH               9.706463e-155\n",
      "DAYS_EMPLOYED            2.903490e-176\n",
      "EDU_Secondary_special     4.087493e-10\n",
      "Name: PR(>F), dtype: float64\n",
      "\n",
      "\n",
      "Interactions with: INC_Unemployed\n",
      "DAYS_BIRTH                    7.412935e-155\n",
      "DAYS_EMPLOYED                 3.180408e-176\n",
      "EDU_Secondary_special          4.245957e-09\n",
      "INC_Unemployed:FAM_Married     9.354836e-05\n",
      "Name: PR(>F), dtype: float64\n",
      "\n",
      "\n",
      "Interactions with: INC_Working\n",
      "DAYS_BIRTH                   3.590003e-152\n",
      "DAYS_EMPLOYED                1.250319e-174\n",
      "EDU_Lower_secondary           6.143173e-21\n",
      "EDU_Secondary_special         1.080957e-11\n",
      "INC_Working:DAYS_EMPLOYED     1.082471e-10\n",
      "INC_Working:FAM_Widow         3.551314e-04\n",
      "Name: PR(>F), dtype: float64\n",
      "\n",
      "\n"
     ]
    }
   ],
   "source": [
    "## Test interactions\n",
    "anovaTestbase = cleanTrain.columns[0] + \" ~ \" + cleanTrain.columns[1]\n",
    "for i in cleanTrain.columns[2:]:\n",
    "    anovaTestbase = anovaTestbase + \" + \" + i\n",
    "\n",
    "\n",
    "for i in cleanTrain.columns[2:]:\n",
    "    anovaTest = anovaTestbase\n",
    "    for j in cleanTrain.columns[2:]:\n",
    "        anovaTest = anovaTest + \" + \" + i + \":\" + j\n",
    "    lm = ols(anovaTest, data=cleanTrain).fit()\n",
    "    table = sm.stats.anova_lm(lm, typ=2)\n",
    "    print(\"Interactions with: {}\".format(i))\n",
    "    print(table[table['PR(>F)'] <= 0.0005]['PR(>F)'])\n",
    "    print(\"\\n\")\n"
   ]
  },
  {
   "cell_type": "code",
   "execution_count": null,
   "metadata": {},
   "outputs": [],
   "source": []
  },
  {
   "cell_type": "code",
   "execution_count": 49,
   "metadata": {},
   "outputs": [],
   "source": [
    "newModel = pd.DataFrame(cleanTrain[['TARGET', 'DAYS_EMPLOYED_ZERO','DAYS_BIRTH', 'scaledLogINC', 'DAYS_EMPLOYED',\n",
    "                                   'EDU_Incomplete_higher', 'EDU_Incomplete_higher', 'EDU_Lower_secondary',\n",
    "                                   'EDU_Secondary_special', 'INC_Maternity', 'INC_Student', 'INC_Unemployed']])"
   ]
  },
  {
   "cell_type": "code",
   "execution_count": 34,
   "metadata": {},
   "outputs": [],
   "source": [
    "X_train, X_test, y_train, y_test = train_test_split(newModel.iloc[:,1:], \n",
    "                                                    newModel.TARGET, test_size = 0.2, random_state = 0)"
   ]
  },
  {
   "cell_type": "code",
   "execution_count": 35,
   "metadata": {},
   "outputs": [],
   "source": [
    "clf = linear_model.LogisticRegression().fit(X_train, y_train)"
   ]
  },
  {
   "cell_type": "code",
   "execution_count": 36,
   "metadata": {},
   "outputs": [
    {
     "data": {
      "text/plain": [
       "0.9210607612636782"
      ]
     },
     "execution_count": 36,
     "metadata": {},
     "output_type": "execute_result"
    }
   ],
   "source": [
    "clf.score(X_test, y_test)"
   ]
  },
  {
   "cell_type": "code",
   "execution_count": 37,
   "metadata": {},
   "outputs": [],
   "source": [
    "log_reg_pred = clf.predict_proba(X_test)[:, 1]"
   ]
  },
  {
   "cell_type": "code",
   "execution_count": 40,
   "metadata": {},
   "outputs": [
    {
     "data": {
      "text/plain": [
       "<matplotlib.axes._subplots.AxesSubplot at 0x7fb3a5e79b38>"
      ]
     },
     "execution_count": 40,
     "metadata": {},
     "output_type": "execute_result"
    },
    {
     "data": {
      "image/png": "[encoded data removed]",
      "text/plain": [
       "<Figure size 432x288 with 1 Axes>"
      ]
     },
     "metadata": {},
     "output_type": "display_data"
    }
   ],
   "source": [
    "pd.Series(log_reg_pred).hist()"
   ]
  },
  {
   "cell_type": "code",
   "execution_count": 41,
   "metadata": {},
   "outputs": [
    {
     "data": {
      "text/plain": [
       "count    61503.000000\n",
       "mean         0.081363\n",
       "std          0.033123\n",
       "min          0.017430\n",
       "25%          0.058089\n",
       "50%          0.073869\n",
       "75%          0.100792\n",
       "max          0.300117\n",
       "dtype: float64"
      ]
     },
     "execution_count": 41,
     "metadata": {},
     "output_type": "execute_result"
    }
   ],
   "source": [
    "pd.Series(log_reg_pred).describe()"
   ]
  },
  {
   "cell_type": "code",
   "execution_count": null,
   "metadata": {},
   "outputs": [],
   "source": []
  }
 ],
 "metadata": {
  "kernelspec": {
   "display_name": "Python 3",
   "language": "python",
   "name": "python3"
  },
  "language_info": {
   "codemirror_mode": {
    "name": "ipython",
    "version": 3
   },
   "file_extension": ".py",
   "mimetype": "text/x-python",
   "name": "python",
   "nbconvert_exporter": "python",
   "pygments_lexer": "ipython3",
   "version": "3.6.5"
  }
 },
 "nbformat": 4,
 "nbformat_minor": 2
}
