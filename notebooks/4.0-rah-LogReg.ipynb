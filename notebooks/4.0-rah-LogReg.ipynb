{
 "cells": [
  {
   "cell_type": "code",
   "execution_count": 1,
   "metadata": {},
   "outputs": [],
   "source": [
    "import os\n",
    "import sys\n",
    "\n",
    "import numpy as np\n",
    "import pandas as pd\n",
    "import pandas_profiling\n",
    "\n",
    "import matplotlib.pyplot as plt\n",
    "import seaborn as sns\n",
    "%matplotlib inline\n",
    "sns.set(style=\"ticks\", color_codes=True)\n",
    "import warnings\n",
    "warnings.filterwarnings('ignore')\n",
    "\n",
    "sys.path.append('../src/features')\n",
    "import build_features as bf"
   ]
  },
  {
   "cell_type": "code",
   "execution_count": 2,
   "metadata": {},
   "outputs": [],
   "source": [
    "originalDF = pd.read_csv(\"../data/raw/application_train.csv\")"
   ]
  },
  {
   "cell_type": "code",
   "execution_count": 3,
   "metadata": {},
   "outputs": [
    {
     "name": "stdout",
     "output_type": "stream",
     "text": [
      "3 columns were label encoded\n"
     ]
    }
   ],
   "source": [
    "cleanTrain=bf.executeFeatures(originalDF)"
   ]
  },
  {
   "cell_type": "code",
   "execution_count": 4,
   "metadata": {},
   "outputs": [
    {
     "name": "stdout",
     "output_type": "stream",
     "text": [
      "TARGET\n",
      "DAYS_BIRTH\n",
      "scaledLogINC\n",
      "DAYS_EMPLOYED_ANOM\n",
      "DAYS_EMPLOYED_ZERO\n",
      "DAYS_EMPLOYED\n",
      "NAME_CONTRACT_TYPE\n",
      "FLAG_OWN_CAR\n",
      "FLAG_OWN_REALTY\n",
      "EDU_Academic degree\n",
      "EDU_Higher education\n",
      "EDU_Incomplete higher\n",
      "EDU_Lower secondary\n",
      "EDU_Secondary / secondary special\n",
      "FAM_Civil marriage\n",
      "FAM_Married\n",
      "FAM_Separated\n",
      "FAM_Single / not married\n",
      "FAM_Unknown\n",
      "FAM_Widow\n",
      "INC_Businessman\n",
      "INC_Commercial associate\n",
      "INC_Maternity leave\n",
      "INC_Pensioner\n",
      "INC_State servant\n",
      "INC_Student\n",
      "INC_Unemployed\n",
      "INC_Working\n"
     ]
    }
   ],
   "source": [
    "for i in cleanTrain.columns:\n",
    "    print(i)"
   ]
  },
  {
   "cell_type": "code",
   "execution_count": 5,
   "metadata": {},
   "outputs": [],
   "source": [
    "cleanTrain.columns = ['TARGET', 'DAYS_BIRTH', 'scaledLogINC', 'DAYS_EMPLOYED_ANOM' ,'DAYS_EMPLOYED_ZERO','DAYS_EMPLOYED', \n",
    " 'NAME_CONTRACT_TYPE','FLAG_OWN_CAR','FLAG_OWN_REALTY','EDU_Academic_degree', 'EDU_Higher_education', 'EDU_Incomplete_higher', 'EDU_Lower_secondary', \n",
    " 'EDU_Secondary_special', 'FAM_Civil_marriage', 'FAM_Married', 'FAM_Separated', 'FAM_Single', 'FAM_Unknown',\n",
    " 'FAM_Widow','INC_Businessman','INC_Commercial','INC_Maternity' , 'INC_Pensioner','INC_State','INC_Student',\n",
    " 'INC_Unemployed','INC_Working']"
   ]
  },
  {
   "cell_type": "markdown",
   "metadata": {},
   "source": [
    "## Build Model"
   ]
  },
  {
   "cell_type": "code",
   "execution_count": 6,
   "metadata": {},
   "outputs": [],
   "source": [
    "from sklearn.model_selection import train_test_split\n",
    "from sklearn import linear_model\n",
    "from sklearn.model_selection import cross_val_score"
   ]
  },
  {
   "cell_type": "code",
   "execution_count": 7,
   "metadata": {},
   "outputs": [],
   "source": [
    "X_train, X_test, y_train, y_test = train_test_split(cleanTrain.iloc[:,1:], \n",
    "                                                    cleanTrain.TARGET, test_size = 0.2, random_state = 0)"
   ]
  },
  {
   "cell_type": "code",
   "execution_count": 8,
   "metadata": {},
   "outputs": [],
   "source": [
    "clf = linear_model.LogisticRegression().fit(X_train, y_train)"
   ]
  },
  {
   "cell_type": "code",
   "execution_count": 9,
   "metadata": {},
   "outputs": [
    {
     "data": {
      "text/plain": [
       "0.9210607612636782"
      ]
     },
     "execution_count": 9,
     "metadata": {},
     "output_type": "execute_result"
    }
   ],
   "source": [
    "clf.score(X_test, y_test)"
   ]
  },
  {
   "cell_type": "markdown",
   "metadata": {},
   "source": [
    "## Investigate with ANOVA"
   ]
  },
  {
   "cell_type": "code",
   "execution_count": 10,
   "metadata": {},
   "outputs": [],
   "source": [
    "import statsmodels.api as sm\n",
    "from statsmodels.formula.api import ols"
   ]
  },
  {
   "cell_type": "code",
   "execution_count": 11,
   "metadata": {},
   "outputs": [],
   "source": [
    "anovaTest = cleanTrain.columns[0] + \" ~ \" + cleanTrain.columns[1]\n",
    "for i in cleanTrain.columns[2:]:\n",
    "    anovaTest = anovaTest + \" + \" + i"
   ]
  },
  {
   "cell_type": "code",
   "execution_count": 12,
   "metadata": {},
   "outputs": [
    {
     "data": {
      "text/plain": [
       "'TARGET ~ DAYS_BIRTH + scaledLogINC + DAYS_EMPLOYED_ANOM + DAYS_EMPLOYED_ZERO + DAYS_EMPLOYED + NAME_CONTRACT_TYPE + FLAG_OWN_CAR + FLAG_OWN_REALTY + EDU_Academic_degree + EDU_Higher_education + EDU_Incomplete_higher + EDU_Lower_secondary + EDU_Secondary_special + FAM_Civil_marriage + FAM_Married + FAM_Separated + FAM_Single + FAM_Unknown + FAM_Widow + INC_Businessman + INC_Commercial + INC_Maternity + INC_Pensioner + INC_State + INC_Student + INC_Unemployed + INC_Working'"
      ]
     },
     "execution_count": 12,
     "metadata": {},
     "output_type": "execute_result"
    }
   ],
   "source": [
    "anovaTest"
   ]
  },
  {
   "cell_type": "code",
   "execution_count": 14,
   "metadata": {},
   "outputs": [
    {
     "name": "stdout",
     "output_type": "stream",
     "text": [
      "                          sum_sq   df           F         PR(>F)\n",
      "DAYS_BIRTH             58.263367  1.0  798.797077  1.656066e-175\n",
      "DAYS_EMPLOYED          60.072174  1.0  823.596019  6.944160e-181\n",
      "NAME_CONTRACT_TYPE     30.476889  1.0  417.841444   8.301786e-93\n",
      "FLAG_OWN_CAR           12.865949  1.0  176.393557   3.047916e-40\n",
      "FLAG_OWN_REALTY         0.938478  1.0   12.866632   3.345450e-04\n",
      "EDU_Incomplete_higher   0.637869  1.0    8.745250   3.104332e-03\n",
      "EDU_Lower_secondary     5.936305  1.0   81.387378   1.865654e-19\n",
      "EDU_Secondary_special   3.330334  1.0   45.659237   1.409700e-11\n",
      "INC_Maternity           0.575195  1.0    7.885990   4.982235e-03\n"
     ]
    }
   ],
   "source": [
    "lm = ols(anovaTest, data=cleanTrain).fit()\n",
    "table = sm.stats.anova_lm(lm, typ=2)\n",
    "print(table[table['PR(>F)'] <= 0.005])"
   ]
  },
  {
   "cell_type": "code",
   "execution_count": 47,
   "metadata": {},
   "outputs": [
    {
     "data": {
      "text/plain": [
       "'TARGET ~ DAYS_BIRTH + scaledLogINC + DAYS_EMPLOYED_ANOM + DAYS_EMPLOYED_ZERO + DAYS_EMPLOYED + EDU_Academic_degree + EDU_Higher_education + EDU_Incomplete_higher + EDU_Lower_secondary + EDU_Secondary_special + FAM_Civil_marriage + FAM_Married + FAM_Separated + FAM_Single + FAM_Unknown + FAM_Widow + INC_Businessman + INC_Commercial + INC_Maternity + INC_Pensioner + INC_State + INC_Student + INC_Unemployed + INC_Working + DAYS_BIRTH:DAYS_EMPLOYED_ANOM + DAYS_BIRTH:DAYS_EMPLOYED_ZERO + DAYS_BIRTH:DAYS_EMPLOYED + DAYS_BIRTH:EDU_Academic_degree + DAYS_BIRTH:EDU_Higher_education + DAYS_BIRTH:EDU_Incomplete_higher + DAYS_BIRTH:EDU_Lower_secondary + DAYS_BIRTH:EDU_Secondary_special + DAYS_BIRTH:FAM_Civil_marriage + DAYS_BIRTH:FAM_Married + DAYS_BIRTH:FAM_Separated + DAYS_BIRTH:FAM_Single + DAYS_BIRTH:FAM_Unknown + DAYS_BIRTH:FAM_Widow + DAYS_BIRTH:INC_Businessman + DAYS_BIRTH:INC_Commercial + DAYS_BIRTH:INC_Maternity + DAYS_BIRTH:INC_Pensioner + DAYS_BIRTH:INC_State + DAYS_BIRTH:INC_Student + DAYS_BIRTH:INC_Unemployed + DAYS_BIRTH:INC_Working'"
      ]
     },
     "execution_count": 47,
     "metadata": {},
     "output_type": "execute_result"
    }
   ],
   "source": [
    "## Test interactions\n",
    "anovaTest = cleanTrain.columns[0] + \" ~ \" + cleanTrain.columns[1]\n",
    "for i in cleanTrain.columns[2:]:\n",
    "    anovaTest = anovaTest + \" + \" + i\n",
    "\n",
    "for i in cleanTrain.columns[3:]:\n",
    "    anovaTest = anovaTest + \" + DAYS_BIRTH:\" + i \n",
    "    \n",
    "anovaTest"
   ]
  },
  {
   "cell_type": "code",
   "execution_count": 48,
   "metadata": {},
   "outputs": [
    {
     "name": "stdout",
     "output_type": "stream",
     "text": [
      "                                  sum_sq   df           F         PR(>F)\n",
      "DAYS_EMPLOYED_ZERO              0.330010  1.0    4.520799   3.348599e-02\n",
      "DAYS_BIRTH:DAYS_EMPLOYED_ZERO   0.457253  1.0    6.263907   1.232273e-02\n",
      "scaledLogINC                    0.655153  1.0    8.974934   2.737303e-03\n",
      "DAYS_EMPLOYED                  59.672788  1.0  817.456684  1.488813e-179\n",
      "EDU_Lower_secondary             1.863282  1.0   25.525079   4.369190e-07\n",
      "EDU_Secondary_special           0.640526  1.0    8.774550   3.054858e-03\n",
      "INC_Maternity                   0.438533  1.0    6.007454   1.424612e-02\n",
      "INC_Unemployed                  0.306254  1.0    4.195370   4.053537e-02\n"
     ]
    }
   ],
   "source": [
    "lm = ols(anovaTest, data=cleanTrain).fit()\n",
    "table = sm.stats.anova_lm(lm, typ=2)\n",
    "print(table[table['PR(>F)'] <= 0.05])"
   ]
  },
  {
   "cell_type": "code",
   "execution_count": 15,
   "metadata": {
    "scrolled": false
   },
   "outputs": [
    {
     "name": "stdout",
     "output_type": "stream",
     "text": [
      "Interactions with: scaledLogINC\n",
      "DAYS_BIRTH                      3.674972e-173\n",
      "DAYS_EMPLOYED                   5.422166e-180\n",
      "NAME_CONTRACT_TYPE               1.391378e-92\n",
      "FLAG_OWN_CAR                     2.972730e-39\n",
      "FLAG_OWN_REALTY                  3.909531e-04\n",
      "EDU_Lower_secondary              2.144124e-08\n",
      "EDU_Secondary_special            5.728376e-05\n",
      "scaledLogINC:FLAG_OWN_REALTY     1.257201e-04\n",
      "Name: PR(>F), dtype: float64\n",
      "\n",
      "\n",
      "Interactions with: DAYS_EMPLOYED_ANOM\n",
      "DAYS_BIRTH                               2.170894e-169\n",
      "DAYS_EMPLOYED                            5.728580e-180\n",
      "NAME_CONTRACT_TYPE                        3.045046e-93\n",
      "DAYS_EMPLOYED_ANOM:NAME_CONTRACT_TYPE     9.875687e-06\n",
      "FLAG_OWN_CAR                              2.532956e-40\n",
      "FLAG_OWN_REALTY                           2.249272e-04\n",
      "EDU_Lower_secondary                       1.258399e-22\n",
      "EDU_Secondary_special                     2.539934e-12\n",
      "DAYS_EMPLOYED_ANOM:FAM_Widow              4.115589e-04\n",
      "INC_Pensioner                             1.803099e-06\n",
      "INC_Unemployed                            0.000000e+00\n",
      "DAYS_EMPLOYED_ANOM:INC_Unemployed         4.042316e-04\n",
      "Name: PR(>F), dtype: float64\n",
      "\n",
      "\n",
      "Interactions with: DAYS_EMPLOYED_ZERO\n",
      "DAYS_BIRTH               1.528831e-175\n",
      "DAYS_EMPLOYED            7.024207e-181\n",
      "NAME_CONTRACT_TYPE        7.301260e-93\n",
      "FLAG_OWN_CAR              3.055084e-40\n",
      "FLAG_OWN_REALTY           3.345443e-04\n",
      "EDU_Lower_secondary       1.300821e-19\n",
      "EDU_Secondary_special     1.407830e-11\n",
      "Name: PR(>F), dtype: float64\n",
      "\n",
      "\n",
      "Interactions with: DAYS_EMPLOYED\n",
      "DAYS_BIRTH                    6.323044e-177\n",
      "NAME_CONTRACT_TYPE             4.009049e-93\n",
      "FLAG_OWN_CAR                   8.902099e-41\n",
      "FLAG_OWN_REALTY                3.400212e-04\n",
      "EDU_Lower_secondary            6.757848e-10\n",
      "EDU_Secondary_special          2.680925e-05\n",
      "DAYS_EMPLOYED:FLAG_OWN_CAR     3.194247e-04\n",
      "Name: PR(>F), dtype: float64\n",
      "\n",
      "\n",
      "Interactions with: NAME_CONTRACT_TYPE\n",
      "DAYS_BIRTH                           7.527329e-177\n",
      "DAYS_EMPLOYED                        9.162183e-182\n",
      "FLAG_OWN_CAR                          1.443857e-40\n",
      "FLAG_OWN_REALTY                       2.810459e-04\n",
      "EDU_Incomplete_higher                 8.458196e-06\n",
      "EDU_Lower_secondary                   2.060328e-28\n",
      "EDU_Secondary_special                 2.948519e-18\n",
      "FAM_Civil_marriage                    2.435290e-10\n",
      "FAM_Married                           2.311983e-07\n",
      "FAM_Separated                         1.260417e-08\n",
      "FAM_Single                            1.100918e-11\n",
      "FAM_Unknown                           0.000000e+00\n",
      "FAM_Widow                             3.239863e-06\n",
      "INC_Pensioner                         1.120089e-07\n",
      "INC_Unemployed                        3.234148e-05\n",
      "NAME_CONTRACT_TYPE:INC_Commercial     2.915510e-04\n",
      "NAME_CONTRACT_TYPE:INC_Maternity      2.509552e-04\n",
      "NAME_CONTRACT_TYPE:INC_Pensioner      3.021545e-05\n",
      "NAME_CONTRACT_TYPE:INC_State          3.503990e-04\n",
      "Name: PR(>F), dtype: float64\n",
      "\n",
      "\n",
      "Interactions with: FLAG_OWN_CAR\n",
      "DAYS_BIRTH                    5.834149e-174\n",
      "DAYS_EMPLOYED                 4.341605e-181\n",
      "NAME_CONTRACT_TYPE             2.223137e-93\n",
      "FLAG_OWN_REALTY                3.334182e-04\n",
      "EDU_Lower_secondary            3.716614e-18\n",
      "EDU_Secondary_special          1.038493e-10\n",
      "FLAG_OWN_CAR:DAYS_EMPLOYED     4.916488e-05\n",
      "Name: PR(>F), dtype: float64\n",
      "\n",
      "\n",
      "Interactions with: FLAG_OWN_REALTY\n",
      "DAYS_BIRTH               1.377047e-175\n",
      "DAYS_EMPLOYED            2.880738e-181\n",
      "NAME_CONTRACT_TYPE        2.564599e-93\n",
      "FLAG_OWN_CAR              3.434670e-40\n",
      "EDU_Lower_secondary       1.834637e-19\n",
      "EDU_Secondary_special     1.987800e-12\n",
      "Name: PR(>F), dtype: float64\n",
      "\n",
      "\n",
      "Interactions with: EDU_Academic_degree\n",
      "DAYS_BIRTH            1.691274e-175\n",
      "DAYS_EMPLOYED         7.172024e-181\n",
      "NAME_CONTRACT_TYPE     8.111901e-93\n",
      "FLAG_OWN_CAR           3.148881e-40\n",
      "FLAG_OWN_REALTY        3.346027e-04\n",
      "Name: PR(>F), dtype: float64\n",
      "\n",
      "\n",
      "Interactions with: EDU_Higher_education\n",
      "DAYS_BIRTH                             1.379334e-180\n",
      "DAYS_EMPLOYED                          5.907749e-181\n",
      "NAME_CONTRACT_TYPE                      5.057449e-93\n",
      "FLAG_OWN_CAR                            1.283852e-40\n",
      "EDU_Lower_secondary                     2.843155e-16\n",
      "EDU_Secondary_special                   1.802133e-09\n",
      "EDU_Higher_education:DAYS_EMPLOYED      8.069170e-19\n",
      "EDU_Higher_education:INC_Commercial     9.749438e-05\n",
      "EDU_Higher_education:INC_Maternity      2.273577e-04\n",
      "EDU_Higher_education:INC_Pensioner      1.712541e-06\n",
      "EDU_Higher_education:INC_State          1.416486e-04\n",
      "EDU_Higher_education:INC_Working        2.399858e-04\n",
      "Name: PR(>F), dtype: float64\n",
      "\n",
      "\n",
      "Interactions with: EDU_Incomplete_higher\n",
      "DAYS_BIRTH             3.410408e-176\n",
      "DAYS_EMPLOYED          3.883393e-181\n",
      "NAME_CONTRACT_TYPE      1.474599e-92\n",
      "FLAG_OWN_CAR            2.659632e-40\n",
      "FLAG_OWN_REALTY         3.130522e-04\n",
      "EDU_Lower_secondary     5.700938e-05\n",
      "Name: PR(>F), dtype: float64\n",
      "\n",
      "\n",
      "Interactions with: EDU_Lower_secondary\n",
      "DAYS_BIRTH            2.909314e-175\n",
      "DAYS_EMPLOYED         6.477743e-181\n",
      "NAME_CONTRACT_TYPE     8.726542e-93\n",
      "FLAG_OWN_CAR           3.030126e-40\n",
      "FLAG_OWN_REALTY        3.227661e-04\n",
      "Name: PR(>F), dtype: float64\n",
      "\n",
      "\n",
      "Interactions with: EDU_Secondary_special\n",
      "DAYS_BIRTH                             7.587693e-181\n",
      "DAYS_EMPLOYED                          1.742972e-181\n",
      "NAME_CONTRACT_TYPE                      1.095297e-92\n",
      "FLAG_OWN_CAR                            1.198913e-40\n",
      "FLAG_OWN_REALTY                         4.895468e-04\n",
      "EDU_Secondary_special:DAYS_EMPLOYED     6.951602e-23\n",
      "EDU_Secondary_special:FAM_Single        5.542843e-05\n",
      "Name: PR(>F), dtype: float64\n",
      "\n",
      "\n",
      "Interactions with: FAM_Civil_marriage\n",
      "DAYS_BIRTH               9.723385e-176\n",
      "DAYS_EMPLOYED            8.622645e-181\n",
      "NAME_CONTRACT_TYPE        8.700492e-93\n",
      "FLAG_OWN_CAR              3.662495e-40\n",
      "FLAG_OWN_REALTY           3.436955e-04\n",
      "EDU_Lower_secondary       2.259513e-19\n",
      "EDU_Secondary_special     1.630383e-11\n",
      "Name: PR(>F), dtype: float64\n",
      "\n",
      "\n",
      "Interactions with: FAM_Married\n",
      "DAYS_BIRTH               1.021896e-174\n",
      "DAYS_EMPLOYED            3.282069e-181\n",
      "NAME_CONTRACT_TYPE        7.858357e-93\n",
      "FLAG_OWN_CAR              5.605068e-40\n",
      "FLAG_OWN_REALTY           3.425147e-04\n",
      "EDU_Incomplete_higher     2.840199e-04\n",
      "EDU_Lower_secondary       5.650285e-24\n",
      "EDU_Secondary_special     2.849661e-15\n",
      "Name: PR(>F), dtype: float64\n",
      "\n",
      "\n",
      "Interactions with: FAM_Separated\n",
      "DAYS_BIRTH               2.842018e-175\n",
      "DAYS_EMPLOYED            7.523511e-181\n",
      "NAME_CONTRACT_TYPE        1.194171e-92\n",
      "FLAG_OWN_CAR              3.633230e-40\n",
      "FLAG_OWN_REALTY           3.404623e-04\n",
      "EDU_Lower_secondary       1.145948e-18\n",
      "EDU_Secondary_special     8.860599e-11\n",
      "Name: PR(>F), dtype: float64\n",
      "\n",
      "\n",
      "Interactions with: FAM_Single\n",
      "DAYS_BIRTH               7.720996e-172\n",
      "DAYS_EMPLOYED            2.440882e-180\n",
      "NAME_CONTRACT_TYPE        6.628072e-93\n",
      "FLAG_OWN_CAR              2.724346e-40\n",
      "FLAG_OWN_REALTY           3.081222e-04\n",
      "EDU_Lower_secondary       6.230712e-19\n",
      "EDU_Secondary_special     3.132332e-11\n",
      "Name: PR(>F), dtype: float64\n",
      "\n",
      "\n",
      "Interactions with: FAM_Unknown\n",
      "DAYS_BIRTH             1.653954e-175\n",
      "DAYS_EMPLOYED          6.987248e-181\n",
      "NAME_CONTRACT_TYPE      7.821265e-93\n",
      "FLAG_OWN_REALTY         3.351436e-04\n",
      "EDU_Lower_secondary     1.127548e-27\n",
      "Name: PR(>F), dtype: float64\n",
      "\n",
      "\n",
      "Interactions with: FAM_Widow\n",
      "DAYS_BIRTH               4.104988e-170\n",
      "DAYS_EMPLOYED            6.906667e-181\n",
      "NAME_CONTRACT_TYPE        2.388818e-92\n",
      "FLAG_OWN_CAR              2.007030e-40\n",
      "FLAG_OWN_REALTY           3.241080e-04\n",
      "EDU_Lower_secondary       2.085597e-19\n",
      "EDU_Secondary_special     2.497985e-11\n",
      "Name: PR(>F), dtype: float64\n",
      "\n",
      "\n",
      "Interactions with: INC_Businessman\n",
      "DAYS_BIRTH            1.649581e-175\n",
      "DAYS_EMPLOYED         6.936647e-181\n",
      "NAME_CONTRACT_TYPE     8.194633e-93\n",
      "FLAG_OWN_CAR           3.059599e-40\n",
      "FLAG_OWN_REALTY        3.343327e-04\n",
      "Name: PR(>F), dtype: float64\n",
      "\n",
      "\n",
      "Interactions with: INC_Commercial\n",
      "DAYS_BIRTH                      1.365456e-174\n",
      "DAYS_EMPLOYED                   6.583194e-181\n",
      "NAME_CONTRACT_TYPE               5.597911e-93\n",
      "FLAG_OWN_CAR                     2.916228e-40\n",
      "FLAG_OWN_REALTY                  3.605982e-04\n",
      "EDU_Lower_secondary              4.709687e-25\n",
      "EDU_Secondary_special            2.340175e-15\n",
      "FAM_Civil_marriage               6.771523e-07\n",
      "FAM_Separated                    5.206897e-05\n",
      "FAM_Single                       9.428328e-06\n",
      "INC_Commercial:DAYS_EMPLOYED     4.304922e-06\n",
      "Name: PR(>F), dtype: float64\n",
      "\n",
      "\n"
     ]
    },
    {
     "name": "stdout",
     "output_type": "stream",
     "text": [
      "Interactions with: INC_Maternity\n",
      "DAYS_BIRTH               1.987997e-175\n",
      "DAYS_EMPLOYED            5.818905e-181\n",
      "NAME_CONTRACT_TYPE        1.352574e-92\n",
      "FLAG_OWN_CAR              2.607771e-40\n",
      "FLAG_OWN_REALTY           3.434987e-04\n",
      "EDU_Secondary_special     1.279667e-09\n",
      "Name: PR(>F), dtype: float64\n",
      "\n",
      "\n",
      "Interactions with: INC_Pensioner\n",
      "DAYS_EMPLOYED_ANOM                   1.005438e-05\n",
      "DAYS_BIRTH                          1.972787e-169\n",
      "DAYS_EMPLOYED                       5.920465e-180\n",
      "NAME_CONTRACT_TYPE                   3.027582e-93\n",
      "FLAG_OWN_CAR                         2.528281e-40\n",
      "FLAG_OWN_REALTY                      2.239501e-04\n",
      "EDU_Lower_secondary                  2.376930e-20\n",
      "EDU_Secondary_special                5.309595e-11\n",
      "INC_Pensioner:NAME_CONTRACT_TYPE     4.476811e-06\n",
      "Name: PR(>F), dtype: float64\n",
      "\n",
      "\n",
      "Interactions with: INC_State\n",
      "DAYS_BIRTH                 7.112845e-176\n",
      "DAYS_EMPLOYED              9.890787e-181\n",
      "NAME_CONTRACT_TYPE          7.321486e-93\n",
      "FLAG_OWN_CAR                3.474173e-40\n",
      "FLAG_OWN_REALTY             3.290125e-04\n",
      "EDU_Lower_secondary         1.149261e-18\n",
      "EDU_Secondary_special       1.002737e-11\n",
      "INC_State:DAYS_EMPLOYED     1.093143e-05\n",
      "Name: PR(>F), dtype: float64\n",
      "\n",
      "\n",
      "Interactions with: INC_Student\n",
      "DAYS_BIRTH               1.651522e-175\n",
      "DAYS_EMPLOYED            6.729290e-181\n",
      "NAME_CONTRACT_TYPE        8.235691e-93\n",
      "FLAG_OWN_CAR              3.090039e-40\n",
      "FLAG_OWN_REALTY           3.353319e-04\n",
      "EDU_Secondary_special     1.977520e-10\n",
      "Name: PR(>F), dtype: float64\n",
      "\n",
      "\n",
      "Interactions with: INC_Unemployed\n",
      "DAYS_BIRTH               7.210138e-176\n",
      "DAYS_EMPLOYED            1.002203e-180\n",
      "NAME_CONTRACT_TYPE        1.682173e-92\n",
      "FLAG_OWN_CAR              2.492121e-40\n",
      "FLAG_OWN_REALTY           3.288166e-04\n",
      "EDU_Secondary_special     1.796389e-11\n",
      "Name: PR(>F), dtype: float64\n",
      "\n",
      "\n",
      "Interactions with: INC_Working\n",
      "DAYS_EMPLOYED_ZERO            1.518946e-08\n",
      "DAYS_BIRTH                   1.034663e-172\n",
      "DAYS_EMPLOYED                9.465560e-180\n",
      "NAME_CONTRACT_TYPE            1.285774e-92\n",
      "FLAG_OWN_CAR                  4.843285e-41\n",
      "FLAG_OWN_REALTY               2.755608e-04\n",
      "EDU_Lower_secondary           9.850490e-22\n",
      "EDU_Secondary_special         9.766177e-13\n",
      "INC_Working:DAYS_EMPLOYED     2.308572e-11\n",
      "INC_Working:FAM_Widow         1.028599e-04\n",
      "Name: PR(>F), dtype: float64\n",
      "\n",
      "\n"
     ]
    }
   ],
   "source": [
    "## Test interactions\n",
    "anovaTestbase = cleanTrain.columns[0] + \" ~ \" + cleanTrain.columns[1]\n",
    "for i in cleanTrain.columns[2:]:\n",
    "    anovaTestbase = anovaTestbase + \" + \" + i\n",
    "\n",
    "\n",
    "for i in cleanTrain.columns[2:]:\n",
    "    anovaTest = anovaTestbase\n",
    "    for j in cleanTrain.columns[2:]:\n",
    "        anovaTest = anovaTest + \" + \" + i + \":\" + j\n",
    "    lm = ols(anovaTest, data=cleanTrain).fit()\n",
    "    table = sm.stats.anova_lm(lm, typ=2)\n",
    "    print(\"Interactions with: {}\".format(i))\n",
    "    print(table[table['PR(>F)'] <= 0.0005]['PR(>F)'])\n",
    "    print(\"\\n\")\n"
   ]
  },
  {
   "cell_type": "code",
   "execution_count": null,
   "metadata": {},
   "outputs": [],
   "source": []
  },
  {
   "cell_type": "code",
   "execution_count": 49,
   "metadata": {},
   "outputs": [],
   "source": [
    "newModel = pd.DataFrame(cleanTrain[['TARGET', 'DAYS_EMPLOYED_ZERO','DAYS_BIRTH', 'scaledLogINC', 'DAYS_EMPLOYED',\n",
    "                                   'EDU_Incomplete_higher', 'EDU_Incomplete_higher', 'EDU_Lower_secondary',\n",
    "                                   'EDU_Secondary_special', 'INC_Maternity', 'INC_Student', 'INC_Unemployed']])"
   ]
  },
  {
   "cell_type": "code",
   "execution_count": 34,
   "metadata": {},
   "outputs": [],
   "source": [
    "X_train, X_test, y_train, y_test = train_test_split(newModel.iloc[:,1:], \n",
    "                                                    newModel.TARGET, test_size = 0.2, random_state = 0)"
   ]
  },
  {
   "cell_type": "code",
   "execution_count": 35,
   "metadata": {},
   "outputs": [],
   "source": [
    "clf = linear_model.LogisticRegression().fit(X_train, y_train)"
   ]
  },
  {
   "cell_type": "code",
   "execution_count": 36,
   "metadata": {},
   "outputs": [
    {
     "data": {
      "text/plain": [
       "0.9210607612636782"
      ]
     },
     "execution_count": 36,
     "metadata": {},
     "output_type": "execute_result"
    }
   ],
   "source": [
    "clf.score(X_test, y_test)"
   ]
  },
  {
   "cell_type": "code",
   "execution_count": 37,
   "metadata": {},
   "outputs": [],
   "source": [
    "log_reg_pred = clf.predict_proba(X_test)[:, 1]"
   ]
  },
  {
   "cell_type": "code",
   "execution_count": 40,
   "metadata": {},
   "outputs": [
    {
     "data": {
      "text/plain": [
       "<matplotlib.axes._subplots.AxesSubplot at 0x7fb3a5e79b38>"
      ]
     },
     "execution_count": 40,
     "metadata": {},
     "output_type": "execute_result"
    },
    {
     "data": {
      "image/png": "[encoded data removed]",
      "text/plain": [
       "<Figure size 432x288 with 1 Axes>"
      ]
     },
     "metadata": {},
     "output_type": "display_data"
    }
   ],
   "source": [
    "pd.Series(log_reg_pred).hist()"
   ]
  },
  {
   "cell_type": "code",
   "execution_count": 41,
   "metadata": {},
   "outputs": [
    {
     "data": {
      "text/plain": [
       "count    61503.000000\n",
       "mean         0.081363\n",
       "std          0.033123\n",
       "min          0.017430\n",
       "25%          0.058089\n",
       "50%          0.073869\n",
       "75%          0.100792\n",
       "max          0.300117\n",
       "dtype: float64"
      ]
     },
     "execution_count": 41,
     "metadata": {},
     "output_type": "execute_result"
    }
   ],
   "source": [
    "pd.Series(log_reg_pred).describe()"
   ]
  },
  {
   "cell_type": "code",
   "execution_count": null,
   "metadata": {},
   "outputs": [],
   "source": []
  }
 ],
 "metadata": {
  "kernelspec": {
   "display_name": "Python 3",
   "language": "python",
   "name": "python3"
  },
  "language_info": {
   "codemirror_mode": {
    "name": "ipython",
    "version": 3
   },
   "file_extension": ".py",
   "mimetype": "text/x-python",
   "name": "python",
   "nbconvert_exporter": "python",
   "pygments_lexer": "ipython3",
   "version": "3.6.5"
  }
 },
 "nbformat": 4,
 "nbformat_minor": 2
}
