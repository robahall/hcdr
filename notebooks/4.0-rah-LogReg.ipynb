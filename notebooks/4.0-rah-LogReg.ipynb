{
 "cells": [
  {
   "cell_type": "code",
   "execution_count": 1,
   "metadata": {},
   "outputs": [],
   "source": [
    "import os\n",
    "import sys\n",
    "\n",
    "import numpy as np\n",
    "import pandas as pd\n",
    "import pandas_profiling\n",
    "\n",
    "import matplotlib.pyplot as plt\n",
    "import seaborn as sns\n",
    "%matplotlib inline\n",
    "sns.set(style=\"ticks\", color_codes=True)\n",
    "import warnings\n",
    "warnings.filterwarnings('ignore')\n",
    "\n",
    "sys.path.append('../src/features')\n",
    "import build_features as bf"
   ]
  },
  {
   "cell_type": "code",
   "execution_count": 2,
   "metadata": {},
   "outputs": [],
   "source": [
    "originalDF = pd.read_csv(\"../data/raw/application_train.csv\")"
   ]
  },
  {
   "cell_type": "code",
   "execution_count": 3,
   "metadata": {},
   "outputs": [
    {
     "name": "stdout",
     "output_type": "stream",
     "text": [
      "3 columns were label encoded\n"
     ]
    }
   ],
   "source": [
    "cleanTrain=bf.executeFeatures(originalDF)"
   ]
  },
  {
   "cell_type": "code",
   "execution_count": null,
   "metadata": {},
   "outputs": [],
   "source": []
  },
  {
   "cell_type": "code",
   "execution_count": 10,
   "metadata": {},
   "outputs": [
    {
     "name": "stdout",
     "output_type": "stream",
     "text": [
      "Your selected dataset has 32 columns.\n",
      "There are 1 columns that have missing values.\n"
     ]
    },
    {
     "data": {
      "text/html": [
       "<div>\n",
       "<style scoped>\n",
       "    .dataframe tbody tr th:only-of-type {\n",
       "        vertical-align: middle;\n",
       "    }\n",
       "\n",
       "    .dataframe tbody tr th {\n",
       "        vertical-align: top;\n",
       "    }\n",
       "\n",
       "    .dataframe thead th {\n",
       "        text-align: right;\n",
       "    }\n",
       "</style>\n",
       "<table border=\"1\" class=\"dataframe\">\n",
       "  <thead>\n",
       "    <tr style=\"text-align: right;\">\n",
       "      <th></th>\n",
       "      <th>Missing Values</th>\n",
       "      <th>% of Total Values</th>\n",
       "    </tr>\n",
       "  </thead>\n",
       "  <tbody>\n",
       "    <tr>\n",
       "      <th>creditTerm</th>\n",
       "      <td>12</td>\n",
       "      <td>0.0</td>\n",
       "    </tr>\n",
       "  </tbody>\n",
       "</table>\n",
       "</div>"
      ],
      "text/plain": [
       "            Missing Values  % of Total Values\n",
       "creditTerm              12                0.0"
      ]
     },
     "execution_count": 10,
     "metadata": {},
     "output_type": "execute_result"
    }
   ],
   "source": [
    "missingValues(cleanTrain)"
   ]
  },
  {
   "cell_type": "code",
   "execution_count": 4,
   "metadata": {},
   "outputs": [
    {
     "name": "stdout",
     "output_type": "stream",
     "text": [
      "TARGET\n",
      "DAYS_BIRTH\n",
      "scaledLogINC\n",
      "DAYS_EMPLOYED_ANOM\n",
      "DAYS_EMPLOYED_ZERO\n",
      "DAYS_EMPLOYED\n",
      "NAME_CONTRACT_TYPE\n",
      "FLAG_OWN_CAR\n",
      "FLAG_OWN_REALTY\n",
      "EDU_Academic degree\n",
      "EDU_Higher education\n",
      "EDU_Incomplete higher\n",
      "EDU_Lower secondary\n",
      "EDU_Secondary / secondary special\n",
      "FAM_Civil marriage\n",
      "FAM_Married\n",
      "FAM_Separated\n",
      "FAM_Single / not married\n",
      "FAM_Unknown\n",
      "FAM_Widow\n",
      "INC_Businessman\n",
      "INC_Commercial associate\n",
      "INC_Maternity leave\n",
      "INC_Pensioner\n",
      "INC_State servant\n",
      "INC_Student\n",
      "INC_Unemployed\n",
      "INC_Working\n",
      "creditIncomePct\n",
      "annuityIncomePct\n",
      "creditTerm\n",
      "daysEmployedPct\n"
     ]
    }
   ],
   "source": [
    "for i in cleanTrain.columns:\n",
    "    print(i)"
   ]
  },
  {
   "cell_type": "code",
   "execution_count": 5,
   "metadata": {},
   "outputs": [],
   "source": [
    "cleanTrain.columns = ['TARGET', 'DAYS_BIRTH', 'scaledLogINC', 'DAYS_EMPLOYED_ANOM' ,'DAYS_EMPLOYED_ZERO','DAYS_EMPLOYED', \n",
    " 'NAME_CONTRACT_TYPE','FLAG_OWN_CAR','FLAG_OWN_REALTY','EDU_Academic_degree', 'EDU_Higher_education', 'EDU_Incomplete_higher', 'EDU_Lower_secondary', \n",
    " 'EDU_Secondary_special', 'FAM_Civil_marriage', 'FAM_Married', 'FAM_Separated', 'FAM_Single', 'FAM_Unknown',\n",
    " 'FAM_Widow','INC_Businessman','INC_Commercial','INC_Maternity' , 'INC_Pensioner','INC_State','INC_Student',\n",
    " 'INC_Unemployed','INC_Working','creditIncomePct','annuityIncomePct','creditTerm','daysEmployedPct']"
   ]
  },
  {
   "cell_type": "markdown",
   "metadata": {},
   "source": [
    "## Build Model"
   ]
  },
  {
   "cell_type": "code",
   "execution_count": 6,
   "metadata": {},
   "outputs": [],
   "source": [
    "from sklearn.model_selection import train_test_split\n",
    "from sklearn import linear_model\n",
    "from sklearn.model_selection import cross_val_score"
   ]
  },
  {
   "cell_type": "code",
   "execution_count": 7,
   "metadata": {},
   "outputs": [],
   "source": [
    "X_train, X_test, y_train, y_test = train_test_split(cleanTrain.iloc[:,1:], \n",
    "                                                    cleanTrain.TARGET, test_size = 0.2, random_state = 0)"
   ]
  },
  {
   "cell_type": "code",
   "execution_count": 8,
   "metadata": {},
   "outputs": [],
   "source": [
    "clf = linear_model.LogisticRegression().fit(X_train, y_train)"
   ]
  },
  {
   "cell_type": "code",
   "execution_count": 9,
   "metadata": {},
   "outputs": [
    {
     "data": {
      "text/plain": [
       "0.9210607612636782"
      ]
     },
     "execution_count": 9,
     "metadata": {},
     "output_type": "execute_result"
    }
   ],
   "source": [
    "clf.score(X_test, y_test)"
   ]
  },
  {
   "cell_type": "markdown",
   "metadata": {},
   "source": [
    "## Investigate with ANOVA"
   ]
  },
  {
   "cell_type": "code",
   "execution_count": 10,
   "metadata": {},
   "outputs": [],
   "source": [
    "import statsmodels.api as sm\n",
    "from statsmodels.formula.api import ols"
   ]
  },
  {
   "cell_type": "code",
   "execution_count": 11,
   "metadata": {},
   "outputs": [],
   "source": [
    "anovaTest = cleanTrain.columns[0] + \" ~ \" + cleanTrain.columns[1]\n",
    "for i in cleanTrain.columns[2:]:\n",
    "    anovaTest = anovaTest + \" + \" + i"
   ]
  },
  {
   "cell_type": "code",
   "execution_count": 12,
   "metadata": {},
   "outputs": [
    {
     "data": {
      "text/plain": [
       "'TARGET ~ DAYS_BIRTH + scaledLogINC + DAYS_EMPLOYED_ANOM + DAYS_EMPLOYED_ZERO + DAYS_EMPLOYED + NAME_CONTRACT_TYPE + FLAG_OWN_CAR + FLAG_OWN_REALTY + EDU_Academic_degree + EDU_Higher_education + EDU_Incomplete_higher + EDU_Lower_secondary + EDU_Secondary_special + FAM_Civil_marriage + FAM_Married + FAM_Separated + FAM_Single + FAM_Unknown + FAM_Widow + INC_Businessman + INC_Commercial + INC_Maternity + INC_Pensioner + INC_State + INC_Student + INC_Unemployed + INC_Working + creditIncomePct + annuityIncomePct + creditTerm + daysEmployedPct'"
      ]
     },
     "execution_count": 12,
     "metadata": {},
     "output_type": "execute_result"
    }
   ],
   "source": [
    "anovaTest"
   ]
  },
  {
   "cell_type": "code",
   "execution_count": 13,
   "metadata": {},
   "outputs": [
    {
     "name": "stdout",
     "output_type": "stream",
     "text": [
      "                          sum_sq   df           F         PR(>F)\n",
      "DAYS_BIRTH             46.846100  1.0  644.183411  5.766234e-142\n",
      "scaledLogINC            0.587957  1.0    8.085025   4.463545e-03\n",
      "DAYS_EMPLOYED          58.220826  1.0  800.597926  6.738435e-176\n",
      "NAME_CONTRACT_TYPE     41.553266  1.0  571.401348  3.631077e-126\n",
      "FLAG_OWN_CAR           11.952735  1.0  164.362740   1.288757e-37\n",
      "EDU_Academic_degree     1.248420  1.0   17.167089   3.424073e-05\n",
      "EDU_Higher_education   14.359952  1.0  197.464531   7.709864e-45\n",
      "EDU_Incomplete_higher  16.360558  1.0  224.974979   7.749781e-51\n",
      "EDU_Lower_secondary    28.628688  1.0  393.674729   1.488843e-87\n",
      "EDU_Secondary_special  25.558601  1.0  351.457792   2.256928e-78\n",
      "FAM_Civil_marriage      1.377925  1.0   18.947922   1.343788e-05\n",
      "FAM_Married             1.095286  1.0   15.061338   1.040949e-04\n",
      "FAM_Separated           1.254017  1.0   17.244061   3.288121e-05\n",
      "FAM_Single              1.344600  1.0   18.489672   1.708800e-05\n",
      "FAM_Widow               1.099086  1.0   15.113598   1.012527e-04\n",
      "INC_Maternity           0.881033  1.0   12.115134   5.002118e-04\n",
      "INC_Unemployed          0.779522  1.0   10.719252   1.060382e-03\n",
      "creditIncomePct        64.804002  1.0  891.123564  1.592029e-195\n",
      "annuityIncomePct       66.324056  1.0  912.025907  4.691650e-200\n",
      "creditTerm             62.541205  1.0  860.007710  8.854533e-189\n",
      "daysEmployedPct         0.672401  1.0    9.246218   2.360021e-03\n"
     ]
    }
   ],
   "source": [
    "lm = ols(anovaTest, data=cleanTrain).fit()\n",
    "table = sm.stats.anova_lm(lm, typ=2)\n",
    "print(table[table['PR(>F)'] <= 0.005])"
   ]
  },
  {
   "cell_type": "code",
   "execution_count": 47,
   "metadata": {},
   "outputs": [
    {
     "data": {
      "text/plain": [
       "'TARGET ~ DAYS_BIRTH + scaledLogINC + DAYS_EMPLOYED_ANOM + DAYS_EMPLOYED_ZERO + DAYS_EMPLOYED + EDU_Academic_degree + EDU_Higher_education + EDU_Incomplete_higher + EDU_Lower_secondary + EDU_Secondary_special + FAM_Civil_marriage + FAM_Married + FAM_Separated + FAM_Single + FAM_Unknown + FAM_Widow + INC_Businessman + INC_Commercial + INC_Maternity + INC_Pensioner + INC_State + INC_Student + INC_Unemployed + INC_Working + DAYS_BIRTH:DAYS_EMPLOYED_ANOM + DAYS_BIRTH:DAYS_EMPLOYED_ZERO + DAYS_BIRTH:DAYS_EMPLOYED + DAYS_BIRTH:EDU_Academic_degree + DAYS_BIRTH:EDU_Higher_education + DAYS_BIRTH:EDU_Incomplete_higher + DAYS_BIRTH:EDU_Lower_secondary + DAYS_BIRTH:EDU_Secondary_special + DAYS_BIRTH:FAM_Civil_marriage + DAYS_BIRTH:FAM_Married + DAYS_BIRTH:FAM_Separated + DAYS_BIRTH:FAM_Single + DAYS_BIRTH:FAM_Unknown + DAYS_BIRTH:FAM_Widow + DAYS_BIRTH:INC_Businessman + DAYS_BIRTH:INC_Commercial + DAYS_BIRTH:INC_Maternity + DAYS_BIRTH:INC_Pensioner + DAYS_BIRTH:INC_State + DAYS_BIRTH:INC_Student + DAYS_BIRTH:INC_Unemployed + DAYS_BIRTH:INC_Working'"
      ]
     },
     "execution_count": 47,
     "metadata": {},
     "output_type": "execute_result"
    }
   ],
   "source": [
    "## Test interactions\n",
    "anovaTest = cleanTrain.columns[0] + \" ~ \" + cleanTrain.columns[1]\n",
    "for i in cleanTrain.columns[2:]:\n",
    "    anovaTest = anovaTest + \" + \" + i\n",
    "\n",
    "for i in cleanTrain.columns[3:]:\n",
    "    anovaTest = anovaTest + \" + DAYS_BIRTH:\" + i \n",
    "    \n",
    "anovaTest"
   ]
  },
  {
   "cell_type": "code",
   "execution_count": 48,
   "metadata": {},
   "outputs": [
    {
     "name": "stdout",
     "output_type": "stream",
     "text": [
      "                                  sum_sq   df           F         PR(>F)\n",
      "DAYS_EMPLOYED_ZERO              0.330010  1.0    4.520799   3.348599e-02\n",
      "DAYS_BIRTH:DAYS_EMPLOYED_ZERO   0.457253  1.0    6.263907   1.232273e-02\n",
      "scaledLogINC                    0.655153  1.0    8.974934   2.737303e-03\n",
      "DAYS_EMPLOYED                  59.672788  1.0  817.456684  1.488813e-179\n",
      "EDU_Lower_secondary             1.863282  1.0   25.525079   4.369190e-07\n",
      "EDU_Secondary_special           0.640526  1.0    8.774550   3.054858e-03\n",
      "INC_Maternity                   0.438533  1.0    6.007454   1.424612e-02\n",
      "INC_Unemployed                  0.306254  1.0    4.195370   4.053537e-02\n"
     ]
    }
   ],
   "source": [
    "lm = ols(anovaTest, data=cleanTrain).fit()\n",
    "table = sm.stats.anova_lm(lm, typ=2)\n",
    "print(table[table['PR(>F)'] <= 0.05])"
   ]
  },
  {
   "cell_type": "code",
   "execution_count": 19,
   "metadata": {
    "scrolled": false
   },
   "outputs": [
    {
     "name": "stdout",
     "output_type": "stream",
     "text": [
      "Interactions with: scaledLogINC\n",
      "DAYS_BIRTH                       1.383690e-138\n",
      "DAYS_EMPLOYED                    2.609293e-174\n",
      "NAME_CONTRACT_TYPE               4.368441e-124\n",
      "FLAG_OWN_CAR                      9.826583e-37\n",
      "EDU_Higher_education              2.087006e-18\n",
      "EDU_Incomplete_higher             9.406405e-22\n",
      "EDU_Lower_secondary               4.378177e-39\n",
      "EDU_Secondary_special             3.937010e-33\n",
      "creditIncomePct                  1.984798e-189\n",
      "annuityIncomePct                 1.892065e-192\n",
      "creditTerm                       1.268995e-181\n",
      "scaledLogINC:creditIncomePct      3.033956e-05\n",
      "scaledLogINC:annuityIncomePct     1.000733e-07\n",
      "scaledLogINC:creditTerm           1.996838e-06\n",
      "Name: PR(>F), dtype: float64\n",
      "\n",
      "\n",
      "Interactions with: DAYS_EMPLOYED_ANOM\n",
      "DAYS_EMPLOYED_ZERO                           5.536792e-80\n",
      "DAYS_BIRTH                                  4.869768e-140\n",
      "DAYS_EMPLOYED                                2.612308e-13\n",
      "DAYS_EMPLOYED_ANOM:DAYS_EMPLOYED             2.291748e-09\n",
      "NAME_CONTRACT_TYPE                          2.356375e-124\n",
      "DAYS_EMPLOYED_ANOM:NAME_CONTRACT_TYPE        4.381221e-08\n",
      "FLAG_OWN_CAR                                 8.422062e-39\n",
      "EDU_Academic_degree                          2.742610e-05\n",
      "EDU_Higher_education                         4.922511e-51\n",
      "EDU_Incomplete_higher                        2.345200e-57\n",
      "EDU_Lower_secondary                          8.488178e-95\n",
      "DAYS_EMPLOYED_ANOM:EDU_Lower_secondary       1.402772e-07\n",
      "EDU_Secondary_special                        7.394423e-87\n",
      "DAYS_EMPLOYED_ANOM:EDU_Secondary_special     6.820158e-06\n",
      "FAM_Civil_marriage                           1.849863e-05\n",
      "DAYS_EMPLOYED_ANOM:FAM_Civil_marriage        1.024725e-09\n",
      "FAM_Married                                  1.454334e-04\n",
      "DAYS_EMPLOYED_ANOM:FAM_Married               7.977357e-10\n",
      "FAM_Separated                                4.525928e-05\n",
      "DAYS_EMPLOYED_ANOM:FAM_Separated             2.261268e-08\n",
      "FAM_Single                                   2.531147e-05\n",
      "DAYS_EMPLOYED_ANOM:FAM_Single                3.895780e-12\n",
      "DAYS_EMPLOYED_ANOM:FAM_Unknown               2.207030e-06\n",
      "FAM_Widow                                    3.971777e-04\n",
      "DAYS_EMPLOYED_ANOM:FAM_Widow                 7.252200e-05\n",
      "DAYS_EMPLOYED_ANOM:INC_Businessman           1.263292e-15\n",
      "DAYS_EMPLOYED_ANOM:INC_Commercial            3.956898e-12\n",
      "INC_Maternity                                4.790400e-30\n",
      "INC_Pensioner                                7.469077e-18\n",
      "DAYS_EMPLOYED_ANOM:INC_Pensioner             9.964942e-09\n",
      "creditIncomePct                             4.062488e-194\n",
      "DAYS_EMPLOYED_ANOM:creditIncomePct           1.417376e-25\n",
      "annuityIncomePct                            3.433127e-198\n",
      "DAYS_EMPLOYED_ANOM:annuityIncomePct          5.086698e-26\n",
      "creditTerm                                  5.752931e-188\n",
      "DAYS_EMPLOYED_ANOM:creditTerm                1.216842e-18\n",
      "DAYS_EMPLOYED_ANOM:daysEmployedPct           4.467898e-15\n",
      "Name: PR(>F), dtype: float64\n",
      "\n",
      "\n",
      "Interactions with: DAYS_EMPLOYED_ZERO\n",
      "DAYS_BIRTH                                  5.268745e-142\n",
      "DAYS_EMPLOYED                               6.924424e-176\n",
      "NAME_CONTRACT_TYPE                          3.089092e-126\n",
      "FLAG_OWN_CAR                                 1.203251e-37\n",
      "DAYS_EMPLOYED_ZERO:FLAG_OWN_CAR              2.223875e-05\n",
      "EDU_Academic_degree                          1.654264e-04\n",
      "EDU_Higher_education                         7.740601e-45\n",
      "EDU_Incomplete_higher                        1.344481e-50\n",
      "DAYS_EMPLOYED_ZERO:EDU_Incomplete_higher     9.034524e-05\n",
      "EDU_Lower_secondary                          6.992124e-87\n",
      "EDU_Secondary_special                        2.233977e-78\n",
      "FAM_Civil_marriage                           1.342315e-05\n",
      "DAYS_EMPLOYED_ZERO:FAM_Married               2.347993e-58\n",
      "FAM_Separated                                3.286659e-05\n",
      "creditIncomePct                             1.659626e-195\n",
      "annuityIncomePct                            4.414079e-200\n",
      "creditTerm                                  8.191558e-189\n",
      "Name: PR(>F), dtype: float64\n",
      "\n",
      "\n",
      "Interactions with: DAYS_EMPLOYED\n",
      "DAYS_BIRTH                        2.465680e-132\n",
      "NAME_CONTRACT_TYPE                5.538318e-123\n",
      "FLAG_OWN_CAR                       1.261518e-38\n",
      "EDU_Higher_education               4.310355e-24\n",
      "EDU_Incomplete_higher              5.413521e-29\n",
      "EDU_Lower_secondary                1.728171e-51\n",
      "EDU_Secondary_special              7.481834e-43\n",
      "FAM_Civil_marriage                 9.292329e-06\n",
      "FAM_Married                        1.088563e-04\n",
      "FAM_Separated                      2.679922e-05\n",
      "FAM_Single                         1.197626e-05\n",
      "FAM_Widow                          1.677177e-04\n",
      "creditIncomePct                   2.411068e-195\n",
      "annuityIncomePct                  1.760882e-199\n",
      "creditTerm                        9.197719e-191\n",
      "DAYS_EMPLOYED:scaledLogINC         1.120163e-05\n",
      "DAYS_EMPLOYED:creditIncomePct      2.661917e-15\n",
      "DAYS_EMPLOYED:annuityIncomePct     5.682211e-17\n",
      "DAYS_EMPLOYED:creditTerm           5.111264e-11\n",
      "DAYS_EMPLOYED:daysEmployedPct      7.773719e-10\n",
      "Name: PR(>F), dtype: float64\n",
      "\n",
      "\n",
      "Interactions with: NAME_CONTRACT_TYPE\n",
      "DAYS_BIRTH                          1.549161e-139\n",
      "DAYS_EMPLOYED                       1.033095e-175\n",
      "FLAG_OWN_CAR                         3.483161e-38\n",
      "EDU_Academic_degree                  2.817674e-06\n",
      "EDU_Higher_education                 1.066714e-57\n",
      "EDU_Incomplete_higher                1.179558e-64\n",
      "EDU_Lower_secondary                 1.149558e-104\n",
      "EDU_Secondary_special                1.023679e-97\n",
      "FAM_Civil_marriage                   2.392991e-23\n",
      "FAM_Married                          2.711276e-19\n",
      "FAM_Separated                        1.363782e-21\n",
      "FAM_Single                           1.190930e-23\n",
      "FAM_Widow                            2.587509e-19\n",
      "INC_Maternity                        7.859500e-05\n",
      "INC_Pensioner                        5.091145e-06\n",
      "INC_Unemployed                       2.147165e-06\n",
      "creditIncomePct                     1.224553e-195\n",
      "annuityIncomePct                    4.347091e-202\n",
      "creditTerm                          4.249759e-189\n",
      "NAME_CONTRACT_TYPE:scaledLogINC      1.525444e-06\n",
      "NAME_CONTRACT_TYPE:INC_Maternity     1.713726e-04\n",
      "NAME_CONTRACT_TYPE:INC_Pensioner     3.702584e-06\n",
      "Name: PR(>F), dtype: float64\n",
      "\n",
      "\n",
      "Interactions with: FLAG_OWN_CAR\n",
      "DAYS_BIRTH                         9.173263e-141\n",
      "DAYS_EMPLOYED                      1.472676e-177\n",
      "NAME_CONTRACT_TYPE                 2.598793e-127\n",
      "FLAG_OWN_CAR:DAYS_EMPLOYED_ZERO     2.033498e-04\n",
      "EDU_Academic_degree                 3.711239e-05\n",
      "EDU_Higher_education                5.929313e-41\n",
      "EDU_Incomplete_higher               7.995596e-47\n",
      "EDU_Lower_secondary                 2.131884e-81\n",
      "EDU_Secondary_special               1.097072e-71\n",
      "FAM_Civil_marriage                  1.328167e-05\n",
      "FAM_Married                         9.693439e-05\n",
      "FAM_Separated                       3.103914e-05\n",
      "FAM_Single                          1.588500e-05\n",
      "FAM_Widow                           9.108268e-05\n",
      "creditIncomePct                    7.894081e-195\n",
      "annuityIncomePct                   4.817989e-199\n",
      "creditTerm                         6.117871e-188\n",
      "FLAG_OWN_CAR:DAYS_EMPLOYED          2.383820e-04\n",
      "Name: PR(>F), dtype: float64\n",
      "\n",
      "\n",
      "Interactions with: FLAG_OWN_REALTY\n",
      "DAYS_BIRTH               3.014631e-142\n",
      "DAYS_EMPLOYED            1.102044e-176\n",
      "NAME_CONTRACT_TYPE       2.678241e-127\n",
      "FLAG_OWN_CAR              2.624025e-37\n",
      "EDU_Academic_degree       5.819309e-05\n",
      "EDU_Higher_education      1.527736e-44\n",
      "EDU_Incomplete_higher     1.562509e-49\n",
      "EDU_Lower_secondary       1.264259e-85\n",
      "EDU_Secondary_special     2.759470e-78\n",
      "FAM_Civil_marriage        3.581316e-12\n",
      "FAM_Married               3.211636e-10\n",
      "FAM_Separated             2.789262e-11\n",
      "FAM_Single                7.116009e-12\n",
      "FAM_Widow                 3.436335e-09\n",
      "creditIncomePct          1.494719e-189\n",
      "annuityIncomePct         6.797893e-194\n",
      "creditTerm               1.616194e-182\n",
      "Name: PR(>F), dtype: float64\n",
      "\n",
      "\n",
      "Interactions with: EDU_Academic_degree\n",
      "DAYS_BIRTH               6.655800e-142\n",
      "DAYS_EMPLOYED            6.603765e-176\n",
      "NAME_CONTRACT_TYPE       3.667287e-126\n",
      "FLAG_OWN_CAR              1.317354e-37\n",
      "EDU_Higher_education      1.127186e-07\n",
      "EDU_Incomplete_higher     6.072955e-08\n",
      "EDU_Lower_secondary       3.612172e-13\n",
      "EDU_Secondary_special     2.697954e-10\n",
      "FAM_Civil_marriage        6.656155e-05\n",
      "FAM_Married               3.540693e-04\n",
      "FAM_Separated             1.153974e-04\n",
      "FAM_Single                7.442252e-05\n",
      "creditIncomePct          1.403350e-195\n",
      "annuityIncomePct         4.056554e-200\n",
      "creditTerm               7.806687e-189\n",
      "Name: PR(>F), dtype: float64\n",
      "\n",
      "\n"
     ]
    },
    {
     "name": "stdout",
     "output_type": "stream",
     "text": [
      "Interactions with: EDU_Higher_education\n",
      "DAYS_BIRTH                                    9.403992e-146\n",
      "DAYS_EMPLOYED                                 1.339672e-175\n",
      "NAME_CONTRACT_TYPE                            6.921154e-122\n",
      "FLAG_OWN_CAR                                   5.858197e-38\n",
      "EDU_Academic_degree                            1.379639e-12\n",
      "EDU_Incomplete_higher                          4.591566e-25\n",
      "EDU_Lower_secondary                            1.180105e-74\n",
      "EDU_Secondary_special                          1.333461e-43\n",
      "FAM_Civil_marriage                             1.176571e-04\n",
      "FAM_Separated                                  1.981619e-04\n",
      "FAM_Single                                     1.764262e-04\n",
      "FAM_Widow                                      2.749091e-04\n",
      "creditIncomePct                               4.332062e-193\n",
      "annuityIncomePct                              3.969610e-197\n",
      "creditTerm                                    1.780338e-187\n",
      "EDU_Higher_education:DAYS_EMPLOYED             1.679843e-16\n",
      "EDU_Higher_education:EDU_Incomplete_higher     5.782075e-08\n",
      "EDU_Higher_education:INC_Maternity             7.190193e-05\n",
      "EDU_Higher_education:INC_Pensioner             2.417314e-06\n",
      "EDU_Higher_education:creditIncomePct           2.803527e-13\n",
      "EDU_Higher_education:annuityIncomePct          6.313245e-14\n",
      "EDU_Higher_education:creditTerm                1.199386e-11\n",
      "Name: PR(>F), dtype: float64\n",
      "\n",
      "\n",
      "Interactions with: EDU_Incomplete_higher\n",
      "DAYS_EMPLOYED_ZERO                              4.443846e-08\n",
      "DAYS_BIRTH                                     2.138730e-142\n",
      "DAYS_EMPLOYED                                  3.224072e-176\n",
      "NAME_CONTRACT_TYPE                             1.673120e-125\n",
      "FLAG_OWN_CAR                                    1.177619e-37\n",
      "EDU_Higher_education                            2.978861e-06\n",
      "EDU_Incomplete_higher:DAYS_EMPLOYED_ZERO        1.481942e-08\n",
      "EDU_Lower_secondary                             1.750113e-25\n",
      "FAM_Civil_marriage                              1.643557e-05\n",
      "FAM_Married                                     1.376036e-04\n",
      "FAM_Separated                                   4.473768e-05\n",
      "FAM_Single                                      1.921086e-05\n",
      "FAM_Widow                                       1.315766e-04\n",
      "creditIncomePct                                1.851120e-195\n",
      "annuityIncomePct                               5.951317e-200\n",
      "creditTerm                                     1.028387e-188\n",
      "EDU_Incomplete_higher:EDU_Secondary_special     2.463650e-07\n",
      "Name: PR(>F), dtype: float64\n",
      "\n",
      "\n",
      "Interactions with: EDU_Lower_secondary\n",
      "DAYS_BIRTH               7.857284e-142\n",
      "DAYS_EMPLOYED            3.090808e-176\n",
      "NAME_CONTRACT_TYPE       3.242819e-126\n",
      "FLAG_OWN_CAR              1.266190e-37\n",
      "EDU_Higher_education      3.837125e-17\n",
      "EDU_Secondary_special     3.057856e-20\n",
      "FAM_Civil_marriage        1.871669e-06\n",
      "FAM_Married               1.317826e-05\n",
      "FAM_Separated             1.503884e-06\n",
      "FAM_Single                1.979020e-06\n",
      "FAM_Widow                 1.134404e-05\n",
      "creditIncomePct          1.634290e-195\n",
      "annuityIncomePct         5.647581e-200\n",
      "creditTerm               8.312904e-189\n",
      "Name: PR(>F), dtype: float64\n",
      "\n",
      "\n",
      "Interactions with: EDU_Secondary_special\n",
      "DAYS_BIRTH                                  8.173207e-146\n",
      "DAYS_EMPLOYED                               5.712844e-176\n",
      "NAME_CONTRACT_TYPE                          1.689013e-122\n",
      "FLAG_OWN_CAR                                 5.414914e-38\n",
      "FAM_Civil_marriage                           1.306034e-07\n",
      "FAM_Married                                  1.568344e-06\n",
      "FAM_Separated                                3.330317e-07\n",
      "FAM_Single                                   1.802194e-07\n",
      "FAM_Widow                                    6.549561e-07\n",
      "INC_Maternity                                1.595471e-04\n",
      "INC_Unemployed                               2.494871e-04\n",
      "creditIncomePct                             3.550060e-193\n",
      "annuityIncomePct                            2.764035e-197\n",
      "creditTerm                                  3.563514e-187\n",
      "EDU_Secondary_special:DAYS_EMPLOYED          1.875391e-20\n",
      "EDU_Secondary_special:FAM_Civil_marriage     6.515582e-13\n",
      "EDU_Secondary_special:FAM_Married            2.257080e-12\n",
      "EDU_Secondary_special:FAM_Separated          1.364057e-10\n",
      "EDU_Secondary_special:FAM_Single             2.162130e-15\n",
      "EDU_Secondary_special:FAM_Unknown            3.062672e-04\n",
      "EDU_Secondary_special:FAM_Widow              1.635022e-08\n",
      "EDU_Secondary_special:INC_Maternity          2.508226e-04\n",
      "EDU_Secondary_special:creditIncomePct        4.865333e-11\n",
      "EDU_Secondary_special:annuityIncomePct       4.947776e-11\n",
      "EDU_Secondary_special:creditTerm             5.161570e-10\n",
      "Name: PR(>F), dtype: float64\n",
      "\n",
      "\n",
      "Interactions with: FAM_Civil_marriage\n",
      "DAYS_BIRTH               9.311709e-142\n",
      "DAYS_EMPLOYED            1.147042e-175\n",
      "NAME_CONTRACT_TYPE       4.513586e-126\n",
      "FLAG_OWN_CAR              1.702851e-37\n",
      "EDU_Academic_degree       2.461193e-05\n",
      "EDU_Higher_education      6.203299e-46\n",
      "EDU_Incomplete_higher     3.807611e-52\n",
      "EDU_Lower_secondary       1.647841e-88\n",
      "EDU_Secondary_special     2.095869e-79\n",
      "creditIncomePct          2.134985e-195\n",
      "annuityIncomePct         6.728461e-200\n",
      "creditTerm               8.432785e-189\n",
      "Name: PR(>F), dtype: float64\n",
      "\n",
      "\n",
      "Interactions with: FAM_Married\n",
      "DAYS_BIRTH                        3.017762e-141\n",
      "DAYS_EMPLOYED                     2.213101e-176\n",
      "NAME_CONTRACT_TYPE                9.203002e-126\n",
      "FLAG_OWN_CAR                       2.708006e-37\n",
      "EDU_Academic_degree                2.283440e-06\n",
      "EDU_Higher_education               3.701834e-58\n",
      "EDU_Incomplete_higher              5.883391e-65\n",
      "EDU_Lower_secondary               1.272063e-106\n",
      "EDU_Secondary_special              1.799791e-99\n",
      "FAM_Married:DAYS_EMPLOYED_ZERO     2.480701e-06\n",
      "INC_Maternity                      0.000000e+00\n",
      "creditIncomePct                   1.450212e-194\n",
      "annuityIncomePct                  4.005929e-199\n",
      "creditTerm                        4.282944e-188\n",
      "Name: PR(>F), dtype: float64\n",
      "\n",
      "\n",
      "Interactions with: FAM_Separated\n",
      "DAYS_BIRTH               1.341479e-141\n",
      "DAYS_EMPLOYED            1.060860e-175\n",
      "NAME_CONTRACT_TYPE       4.359314e-126\n",
      "FLAG_OWN_CAR              1.583528e-37\n",
      "EDU_Academic_degree       4.616995e-05\n",
      "EDU_Higher_education      5.134121e-41\n",
      "EDU_Incomplete_higher     1.011691e-46\n",
      "EDU_Lower_secondary       3.378846e-81\n",
      "EDU_Secondary_special     4.275339e-72\n",
      "FAM_Civil_marriage        3.660141e-05\n",
      "FAM_Single                1.084540e-04\n",
      "creditIncomePct          2.424655e-195\n",
      "annuityIncomePct         8.532053e-200\n",
      "creditTerm               1.460020e-188\n",
      "Name: PR(>F), dtype: float64\n",
      "\n",
      "\n",
      "Interactions with: FAM_Single\n",
      "DAYS_BIRTH               1.399553e-137\n",
      "DAYS_EMPLOYED            1.693348e-175\n",
      "NAME_CONTRACT_TYPE       1.109879e-124\n",
      "FLAG_OWN_CAR              1.257126e-37\n",
      "EDU_Academic_degree       2.058101e-05\n",
      "EDU_Higher_education      6.013632e-45\n",
      "EDU_Incomplete_higher     8.949066e-52\n",
      "EDU_Lower_secondary       4.555582e-86\n",
      "EDU_Secondary_special     6.931162e-77\n",
      "FAM_Civil_marriage        3.735431e-04\n",
      "FAM_Married               1.723954e-04\n",
      "FAM_Separated             2.375703e-04\n",
      "creditIncomePct          1.351082e-195\n",
      "annuityIncomePct         3.029785e-200\n",
      "creditTerm               1.665789e-189\n",
      "Name: PR(>F), dtype: float64\n",
      "\n",
      "\n",
      "Interactions with: FAM_Unknown\n",
      "DAYS_EMPLOYED_ZERO                 6.136179e-09\n",
      "DAYS_BIRTH                        5.759975e-142\n",
      "DAYS_EMPLOYED                     6.709152e-176\n",
      "NAME_CONTRACT_TYPE                3.711788e-126\n",
      "EDU_Higher_education               7.151563e-64\n",
      "EDU_Lower_secondary               1.106333e-116\n",
      "FAM_Unknown:DAYS_EMPLOYED_ANOM     1.324030e-17\n",
      "FAM_Unknown:DAYS_EMPLOYED_ZERO     7.184032e-08\n",
      "creditIncomePct                   1.612327e-195\n",
      "annuityIncomePct                  4.525803e-200\n",
      "creditTerm                        8.809234e-189\n",
      "Name: PR(>F), dtype: float64\n",
      "\n",
      "\n",
      "Interactions with: FAM_Widow\n",
      "DAYS_BIRTH                    7.329802e-134\n",
      "DAYS_EMPLOYED                 1.948006e-175\n",
      "NAME_CONTRACT_TYPE            1.549154e-125\n",
      "FLAG_OWN_CAR                   6.791229e-38\n",
      "EDU_Academic_degree            3.562196e-04\n",
      "EDU_Higher_education           9.869962e-35\n",
      "EDU_Incomplete_higher          1.754751e-40\n",
      "EDU_Lower_secondary            4.753612e-73\n",
      "EDU_Secondary_special          8.318545e-64\n",
      "FAM_Civil_marriage             4.517576e-07\n",
      "FAM_Married                    1.657804e-08\n",
      "FAM_Separated                  4.550783e-09\n",
      "creditIncomePct               2.631303e-195\n",
      "annuityIncomePct              6.967441e-200\n",
      "creditTerm                    2.014672e-188\n",
      "FAM_Widow:creditIncomePct      9.324877e-10\n",
      "FAM_Widow:annuityIncomePct     2.389079e-09\n",
      "FAM_Widow:creditTerm           9.697311e-08\n",
      "Name: PR(>F), dtype: float64\n",
      "\n",
      "\n"
     ]
    },
    {
     "name": "stdout",
     "output_type": "stream",
     "text": [
      "Interactions with: INC_Businessman\n",
      "DAYS_BIRTH              5.711636e-142\n",
      "DAYS_EMPLOYED           6.747666e-176\n",
      "NAME_CONTRACT_TYPE      3.633718e-126\n",
      "FLAG_OWN_CAR             1.289856e-37\n",
      "EDU_Higher_education     7.288813e-44\n",
      "FAM_Civil_marriage       6.081170e-05\n",
      "FAM_Married              1.734831e-04\n",
      "FAM_Single               3.578895e-05\n",
      "creditIncomePct         1.600367e-195\n",
      "annuityIncomePct        4.736987e-200\n",
      "creditTerm              8.879670e-189\n",
      "Name: PR(>F), dtype: float64\n",
      "\n",
      "\n",
      "Interactions with: INC_Commercial\n",
      "DAYS_BIRTH                           7.986867e-146\n",
      "DAYS_EMPLOYED                        2.096492e-142\n",
      "NAME_CONTRACT_TYPE                   4.108463e-126\n",
      "FLAG_OWN_CAR                          6.137633e-38\n",
      "EDU_Academic_degree                   2.852451e-05\n",
      "EDU_Higher_education                  6.047487e-59\n",
      "EDU_Incomplete_higher                 3.908812e-65\n",
      "EDU_Lower_secondary                  7.845080e-110\n",
      "EDU_Secondary_special                4.199008e-104\n",
      "FAM_Civil_marriage                    1.487385e-34\n",
      "FAM_Married                           2.317238e-28\n",
      "FAM_Separated                         6.879809e-31\n",
      "FAM_Single                            4.921111e-33\n",
      "FAM_Widow                             3.957631e-26\n",
      "INC_Commercial:DAYS_EMPLOYED_ZERO     1.914028e-05\n",
      "creditIncomePct                      1.452246e-193\n",
      "annuityIncomePct                     1.133242e-197\n",
      "creditTerm                           4.807193e-187\n",
      "INC_Commercial:DAYS_EMPLOYED          3.630312e-11\n",
      "INC_Commercial:daysEmployedPct        3.535166e-07\n",
      "Name: PR(>F), dtype: float64\n",
      "\n",
      "\n",
      "Interactions with: INC_Maternity\n",
      "DAYS_BIRTH                          7.151009e-142\n",
      "DAYS_EMPLOYED                       5.794434e-176\n",
      "NAME_CONTRACT_TYPE                  5.390824e-126\n",
      "FLAG_OWN_CAR                         1.106860e-37\n",
      "EDU_Higher_education                 8.074398e-41\n",
      "EDU_Secondary_special                1.490844e-73\n",
      "FAM_Married                          1.791446e-04\n",
      "INC_Maternity:DAYS_EMPLOYED_ANOM     1.778601e-29\n",
      "INC_Maternity:DAYS_EMPLOYED_ZERO     9.567472e-27\n",
      "creditIncomePct                     1.164194e-195\n",
      "annuityIncomePct                    3.046239e-200\n",
      "creditTerm                          7.203643e-189\n",
      "Name: PR(>F), dtype: float64\n",
      "\n",
      "\n",
      "Interactions with: INC_Pensioner\n",
      "DAYS_BIRTH                             3.931145e-132\n",
      "DAYS_EMPLOYED                           5.200692e-50\n",
      "NAME_CONTRACT_TYPE                     1.562482e-124\n",
      "FLAG_OWN_CAR                            2.656344e-38\n",
      "EDU_Higher_education                    1.617941e-37\n",
      "EDU_Incomplete_higher                   9.050439e-44\n",
      "EDU_Lower_secondary                     3.287568e-77\n",
      "EDU_Secondary_special                   1.093594e-70\n",
      "FAM_Civil_marriage                      1.390306e-05\n",
      "FAM_Married                             1.036280e-04\n",
      "FAM_Separated                           3.920615e-05\n",
      "FAM_Single                              1.365519e-05\n",
      "creditIncomePct                        7.331295e-195\n",
      "annuityIncomePct                       5.860193e-199\n",
      "creditTerm                             2.020840e-188\n",
      "INC_Pensioner:NAME_CONTRACT_TYPE        1.494976e-08\n",
      "INC_Pensioner:EDU_Lower_secondary       4.483974e-07\n",
      "INC_Pensioner:EDU_Secondary_special     1.077866e-05\n",
      "INC_Pensioner:FAM_Civil_marriage        1.625925e-06\n",
      "INC_Pensioner:FAM_Married               2.641964e-06\n",
      "INC_Pensioner:FAM_Separated             6.190254e-06\n",
      "INC_Pensioner:FAM_Single                2.303375e-07\n",
      "INC_Pensioner:FAM_Widow                 2.892953e-04\n",
      "INC_Pensioner:creditIncomePct           9.662498e-26\n",
      "INC_Pensioner:annuityIncomePct          3.856595e-26\n",
      "INC_Pensioner:creditTerm                9.259535e-19\n",
      "INC_Pensioner:daysEmployedPct           2.971658e-06\n",
      "Name: PR(>F), dtype: float64\n",
      "\n",
      "\n",
      "Interactions with: INC_State\n",
      "DAYS_BIRTH                      2.339929e-143\n",
      "DAYS_EMPLOYED                   5.313044e-173\n",
      "NAME_CONTRACT_TYPE              3.124958e-126\n",
      "FLAG_OWN_CAR                     1.178018e-37\n",
      "EDU_Academic_degree              6.759504e-05\n",
      "EDU_Higher_education             9.734401e-43\n",
      "EDU_Incomplete_higher            8.991349e-49\n",
      "EDU_Lower_secondary              9.692369e-84\n",
      "EDU_Secondary_special            3.337770e-75\n",
      "FAM_Civil_marriage               1.967787e-05\n",
      "FAM_Married                      1.538044e-04\n",
      "FAM_Separated                    4.913043e-05\n",
      "FAM_Single                       2.650965e-05\n",
      "FAM_Widow                        1.305976e-04\n",
      "INC_State:DAYS_EMPLOYED_ZERO     1.392500e-07\n",
      "creditIncomePct                 6.018750e-196\n",
      "annuityIncomePct                1.788446e-200\n",
      "creditTerm                      2.852607e-189\n",
      "INC_State:DAYS_EMPLOYED          2.971424e-05\n",
      "Name: PR(>F), dtype: float64\n",
      "\n",
      "\n",
      "Interactions with: INC_Student\n",
      "DAYS_BIRTH               5.709345e-142\n",
      "DAYS_EMPLOYED            6.434868e-176\n",
      "NAME_CONTRACT_TYPE       3.610212e-126\n",
      "FLAG_OWN_CAR              1.301252e-37\n",
      "EDU_Higher_education      6.315952e-16\n",
      "EDU_Incomplete_higher     9.921647e-12\n",
      "EDU_Lower_secondary       1.215220e-28\n",
      "EDU_Secondary_special     5.226324e-29\n",
      "FAM_Civil_marriage        5.825636e-05\n",
      "FAM_Married               3.664079e-04\n",
      "FAM_Single                2.279609e-04\n",
      "creditIncomePct          1.562915e-195\n",
      "annuityIncomePct         4.544741e-200\n",
      "creditTerm               8.613913e-189\n",
      "Name: PR(>F), dtype: float64\n",
      "\n",
      "\n",
      "Interactions with: INC_Unemployed\n",
      "DAYS_BIRTH                           6.083329e-142\n",
      "DAYS_EMPLOYED                        8.669803e-176\n",
      "NAME_CONTRACT_TYPE                   9.200639e-126\n",
      "FLAG_OWN_CAR                          1.142649e-37\n",
      "EDU_Higher_education                  5.914182e-16\n",
      "EDU_Incomplete_higher                 3.065826e-33\n",
      "EDU_Lower_secondary                   2.616663e-32\n",
      "EDU_Secondary_special                 1.246016e-40\n",
      "FAM_Civil_marriage                    1.817130e-06\n",
      "FAM_Single                            9.164085e-05\n",
      "creditIncomePct                      1.521977e-195\n",
      "annuityIncomePct                     3.833224e-200\n",
      "creditTerm                           9.463761e-189\n",
      "INC_Unemployed:NAME_CONTRACT_TYPE     1.373670e-04\n",
      "Name: PR(>F), dtype: float64\n",
      "\n",
      "\n",
      "Interactions with: INC_Working\n",
      "DAYS_BIRTH                           3.456381e-142\n",
      "DAYS_EMPLOYED                         5.450749e-48\n",
      "NAME_CONTRACT_TYPE                   2.841788e-122\n",
      "FLAG_OWN_CAR                          3.611697e-39\n",
      "EDU_Academic_degree                   2.634583e-05\n",
      "EDU_Higher_education                  6.266999e-58\n",
      "EDU_Incomplete_higher                 8.877431e-66\n",
      "EDU_Lower_secondary                  9.306213e-106\n",
      "EDU_Secondary_special                6.902523e-100\n",
      "FAM_Civil_marriage                    1.990488e-07\n",
      "FAM_Married                           2.206461e-06\n",
      "FAM_Separated                         6.790430e-07\n",
      "FAM_Single                            2.239382e-07\n",
      "FAM_Widow                             1.790298e-05\n",
      "creditIncomePct                      5.692024e-195\n",
      "annuityIncomePct                     1.852707e-199\n",
      "creditTerm                           1.247094e-189\n",
      "INC_Working:scaledLogINC              7.896127e-05\n",
      "INC_Working:FLAG_OWN_CAR              4.526521e-04\n",
      "INC_Working:EDU_Higher_education      1.076748e-07\n",
      "INC_Working:EDU_Incomplete_higher     2.565057e-07\n",
      "INC_Working:EDU_Lower_secondary       6.077966e-13\n",
      "INC_Working:EDU_Secondary_special     1.531170e-11\n",
      "INC_Working:FAM_Civil_marriage        4.674796e-19\n",
      "INC_Working:FAM_Married               8.546363e-19\n",
      "INC_Working:FAM_Separated             1.456045e-17\n",
      "INC_Working:FAM_Single                3.995614e-21\n",
      "INC_Working:FAM_Widow                 5.036084e-08\n",
      "INC_Working:creditIncomePct           4.441946e-23\n",
      "INC_Working:annuityIncomePct          1.483500e-24\n",
      "INC_Working:creditTerm                5.153547e-18\n",
      "INC_Working:daysEmployedPct           2.230427e-09\n",
      "Name: PR(>F), dtype: float64\n",
      "\n",
      "\n",
      "Interactions with: creditIncomePct\n",
      "DAYS_BIRTH                          2.880635e-138\n",
      "DAYS_EMPLOYED                       5.828350e-175\n",
      "NAME_CONTRACT_TYPE                  9.776951e-123\n",
      "FLAG_OWN_CAR                         5.773331e-38\n",
      "EDU_Higher_education                 7.489649e-19\n",
      "EDU_Incomplete_higher                5.781081e-23\n",
      "EDU_Lower_secondary                  1.330711e-44\n",
      "EDU_Secondary_special                1.355418e-40\n",
      "annuityIncomePct                     2.251434e-89\n",
      "creditTerm                          2.003087e-171\n",
      "creditIncomePct:scaledLogINC         6.694077e-25\n",
      "creditIncomePct:annuityIncomePct     2.058255e-08\n",
      "Name: PR(>F), dtype: float64\n",
      "\n",
      "\n"
     ]
    },
    {
     "name": "stdout",
     "output_type": "stream",
     "text": [
      "Interactions with: annuityIncomePct\n",
      "DAYS_BIRTH                          2.670767e-143\n",
      "DAYS_EMPLOYED                       3.527744e-175\n",
      "NAME_CONTRACT_TYPE                  1.295373e-110\n",
      "FLAG_OWN_CAR                         5.447836e-37\n",
      "EDU_Higher_education                 3.714563e-07\n",
      "EDU_Incomplete_higher                8.684637e-10\n",
      "EDU_Lower_secondary                  7.717869e-24\n",
      "EDU_Secondary_special                8.583521e-21\n",
      "creditIncomePct                     8.906515e-190\n",
      "creditTerm                          5.231165e-181\n",
      "annuityIncomePct:scaledLogINC        1.015778e-22\n",
      "annuityIncomePct:creditIncomePct     4.324259e-08\n",
      "Name: PR(>F), dtype: float64\n",
      "\n",
      "\n",
      "Interactions with: creditTerm\n",
      "DAYS_BIRTH                          7.407851e-132\n",
      "DAYS_EMPLOYED                       1.248461e-174\n",
      "NAME_CONTRACT_TYPE                  2.104040e-120\n",
      "FLAG_OWN_CAR                         1.321889e-37\n",
      "EDU_Academic_degree                  2.176601e-05\n",
      "INC_Commercial                       1.895320e-04\n",
      "INC_State                            1.109309e-04\n",
      "creditIncomePct                     7.905154e-183\n",
      "annuityIncomePct                     3.898783e-77\n",
      "creditTerm:scaledLogINC              9.863335e-06\n",
      "creditTerm:DAYS_EMPLOYED             4.510426e-07\n",
      "creditTerm:EDU_Higher_education      2.914583e-06\n",
      "creditTerm:EDU_Incomplete_higher     3.130762e-05\n",
      "creditTerm:EDU_Secondary_special     6.082986e-05\n",
      "creditTerm:FAM_Civil_marriage        3.391782e-08\n",
      "creditTerm:FAM_Married               2.867232e-10\n",
      "creditTerm:FAM_Separated             2.048564e-09\n",
      "creditTerm:FAM_Single                3.128598e-08\n",
      "creditTerm:FAM_Widow                 5.595204e-10\n",
      "creditTerm:creditIncomePct           4.901311e-11\n",
      "creditTerm:annuityIncomePct          2.543337e-10\n",
      "Name: PR(>F), dtype: float64\n",
      "\n",
      "\n",
      "Interactions with: daysEmployedPct\n",
      "DAYS_BIRTH                             8.418295e-98\n",
      "DAYS_EMPLOYED                          3.715079e-12\n",
      "NAME_CONTRACT_TYPE                    5.908399e-125\n",
      "FLAG_OWN_CAR                           3.343878e-38\n",
      "EDU_Academic_degree                    7.144776e-05\n",
      "EDU_Higher_education                   1.015898e-30\n",
      "EDU_Incomplete_higher                  5.053078e-36\n",
      "EDU_Lower_secondary                    4.282742e-64\n",
      "EDU_Secondary_special                  1.264562e-53\n",
      "FAM_Civil_marriage                     5.307028e-06\n",
      "FAM_Married                            4.277813e-05\n",
      "FAM_Separated                          1.437298e-05\n",
      "FAM_Single                             5.709130e-06\n",
      "FAM_Widow                              1.697489e-04\n",
      "creditIncomePct                       1.246666e-194\n",
      "annuityIncomePct                      1.031368e-198\n",
      "creditTerm                            1.348410e-188\n",
      "daysEmployedPct:DAYS_EMPLOYED_ZERO     1.051916e-07\n",
      "daysEmployedPct:DAYS_EMPLOYED          3.123684e-13\n",
      "daysEmployedPct:NAME_CONTRACT_TYPE     3.035699e-07\n",
      "daysEmployedPct:creditIncomePct        3.091793e-22\n",
      "daysEmployedPct:annuityIncomePct       9.055669e-23\n",
      "daysEmployedPct:creditTerm             5.209917e-16\n",
      "Name: PR(>F), dtype: float64\n",
      "\n",
      "\n"
     ]
    }
   ],
   "source": [
    "## Test interactions\n",
    "anovaTestbase = cleanTrain.columns[0] + \" ~ \" + cleanTrain.columns[1]\n",
    "for i in cleanTrain.columns[2:]:\n",
    "    anovaTestbase = anovaTestbase + \" + \" + i\n",
    "\n",
    "features = {}\n",
    "for i in cleanTrain.columns[2:]:\n",
    "    anovaTest = anovaTestbase\n",
    "    for j in cleanTrain.columns[2:]:\n",
    "        anovaTest = anovaTest + \" + \" + i + \":\" + j\n",
    "    lm = ols(anovaTest, data=cleanTrain).fit()\n",
    "    table = sm.stats.anova_lm(lm, typ=2)\n",
    "    print(\"Interactions with: {}\".format(i))\n",
    "    print(table[table['PR(>F)'] <= 0.0005]['PR(>F)'])\n",
    "    for key in table[table['PR(>F)'] <= 0.0005].index:\n",
    "        if key in features:\n",
    "            features[key] += 1\n",
    "        else:\n",
    "            features[key] = 1\n",
    "    print(\"\\n\")\n"
   ]
  },
  {
   "cell_type": "code",
   "execution_count": null,
   "metadata": {},
   "outputs": [],
   "source": [
    "plt.xticks(rotation=90)"
   ]
  },
  {
   "cell_type": "code",
   "execution_count": 25,
   "metadata": {},
   "outputs": [
    {
     "data": {
      "image/png": "[encoded data removed]",
      "text/plain": [
       "<Figure size 432x288 with 1 Axes>"
      ]
     },
     "metadata": {},
     "output_type": "display_data"
    }
   ],
   "source": [
    "plt.bar(range(len(features)), list(features.values()), align='center')\n",
    "plt.xticks(range(len(features)), list(features.keys()),rotation=45)\n",
    "\n",
    "plt.show()"
   ]
  },
  {
   "cell_type": "code",
   "execution_count": 27,
   "metadata": {},
   "outputs": [
    {
     "data": {
      "text/plain": [
       "139"
      ]
     },
     "execution_count": 27,
     "metadata": {},
     "output_type": "execute_result"
    }
   ],
   "source": [
    "len(features)"
   ]
  },
  {
   "cell_type": "code",
   "execution_count": 28,
   "metadata": {},
   "outputs": [
    {
     "data": {
      "text/plain": [
       "{'DAYS_BIRTH': 30,\n",
       " 'DAYS_EMPLOYED': 29,\n",
       " 'NAME_CONTRACT_TYPE': 29,\n",
       " 'FLAG_OWN_CAR': 28,\n",
       " 'EDU_Higher_education': 27,\n",
       " 'EDU_Incomplete_higher': 23,\n",
       " 'EDU_Lower_secondary': 25,\n",
       " 'EDU_Secondary_special': 25,\n",
       " 'creditIncomePct': 29,\n",
       " 'annuityIncomePct': 29,\n",
       " 'creditTerm': 29,\n",
       " 'DAYS_EMPLOYED_ZERO': 3,\n",
       " 'EDU_Academic_degree': 16,\n",
       " 'FAM_Civil_marriage': 22,\n",
       " 'FAM_Married': 19,\n",
       " 'FAM_Separated': 18,\n",
       " 'FAM_Single': 19,\n",
       " 'FAM_Widow': 13,\n",
       " 'INC_Maternity': 4}"
      ]
     },
     "execution_count": 28,
     "metadata": {},
     "output_type": "execute_result"
    }
   ],
   "source": [
    "{k:v for (k,v) in features.items() if v > 2}"
   ]
  },
  {
   "cell_type": "code",
   "execution_count": 49,
   "metadata": {},
   "outputs": [],
   "source": [
    "newModel = pd.DataFrame(cleanTrain[['TARGET', 'DAYS_EMPLOYED_ZERO','DAYS_BIRTH', 'scaledLogINC', 'DAYS_EMPLOYED',\n",
    "                                   'EDU_Incomplete_higher', 'EDU_Incomplete_higher', 'EDU_Lower_secondary',\n",
    "                                   'EDU_Secondary_special', 'INC_Maternity', 'INC_Student', 'INC_Unemployed']])"
   ]
  },
  {
   "cell_type": "code",
   "execution_count": 34,
   "metadata": {},
   "outputs": [],
   "source": [
    "X_train, X_test, y_train, y_test = train_test_split(newModel.iloc[:,1:], \n",
    "                                                    newModel.TARGET, test_size = 0.2, random_state = 0)"
   ]
  },
  {
   "cell_type": "code",
   "execution_count": 35,
   "metadata": {},
   "outputs": [],
   "source": [
    "clf = linear_model.LogisticRegression().fit(X_train, y_train)"
   ]
  },
  {
   "cell_type": "code",
   "execution_count": 36,
   "metadata": {},
   "outputs": [
    {
     "data": {
      "text/plain": [
       "0.9210607612636782"
      ]
     },
     "execution_count": 36,
     "metadata": {},
     "output_type": "execute_result"
    }
   ],
   "source": [
    "clf.score(X_test, y_test)"
   ]
  },
  {
   "cell_type": "code",
   "execution_count": 37,
   "metadata": {},
   "outputs": [],
   "source": [
    "log_reg_pred = clf.predict_proba(X_test)[:, 1]"
   ]
  },
  {
   "cell_type": "code",
   "execution_count": 40,
   "metadata": {},
   "outputs": [
    {
     "data": {
      "text/plain": [
       "<matplotlib.axes._subplots.AxesSubplot at 0x7fb3a5e79b38>"
      ]
     },
     "execution_count": 40,
     "metadata": {},
     "output_type": "execute_result"
    },
    {
     "data": {
      "image/png": "[encoded data removed]",
      "text/plain": [
       "<Figure size 432x288 with 1 Axes>"
      ]
     },
     "metadata": {},
     "output_type": "display_data"
    }
   ],
   "source": [
    "pd.Series(log_reg_pred).hist()"
   ]
  },
  {
   "cell_type": "code",
   "execution_count": 41,
   "metadata": {},
   "outputs": [
    {
     "data": {
      "text/plain": [
       "count    61503.000000\n",
       "mean         0.081363\n",
       "std          0.033123\n",
       "min          0.017430\n",
       "25%          0.058089\n",
       "50%          0.073869\n",
       "75%          0.100792\n",
       "max          0.300117\n",
       "dtype: float64"
      ]
     },
     "execution_count": 41,
     "metadata": {},
     "output_type": "execute_result"
    }
   ],
   "source": [
    "pd.Series(log_reg_pred).describe()"
   ]
  },
  {
   "cell_type": "code",
   "execution_count": null,
   "metadata": {},
   "outputs": [],
   "source": []
  }
 ],
 "metadata": {
  "kernelspec": {
   "display_name": "Python 3",
   "language": "python",
   "name": "python3"
  },
  "language_info": {
   "codemirror_mode": {
    "name": "ipython",
    "version": 3
   },
   "file_extension": ".py",
   "mimetype": "text/x-python",
   "name": "python",
   "nbconvert_exporter": "python",
   "pygments_lexer": "ipython3",
   "version": "3.6.5"
  }
 },
 "nbformat": 4,
 "nbformat_minor": 2
}
